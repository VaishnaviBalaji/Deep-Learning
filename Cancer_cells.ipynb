{
  "nbformat": 4,
  "nbformat_minor": 0,
  "metadata": {
    "accelerator": "GPU",
    "colab": {
      "name": "Cancer_cells.ipynb",
      "provenance": []
    },
    "kernelspec": {
      "display_name": "Python 3",
      "name": "python3"
    },
    "language_info": {
      "name": "python"
    }
  },
  "cells": [
    {
      "cell_type": "code",
      "metadata": {
        "id": "cCNlCuQYyzeS"
      },
      "source": [
        "\n",
        "import pandas as pd\n",
        "import os\n",
        "import shutil"
      ],
      "execution_count": 3,
      "outputs": []
    },
    {
      "cell_type": "code",
      "metadata": {
        "id": "Cvqsx8yKy7h7"
      },
      "source": [
        "# specify the paths:\n",
        "data_dir = os.getcwd() + \"/drive/MyDrive/project/train/train/\""
      ],
      "execution_count": 8,
      "outputs": []
    },
    {
      "cell_type": "code",
      "metadata": {
        "id": "pgiQ_oUoX_Fi"
      },
      "source": [
        "test_data_dir=os.getcwd() + \"/drive/MyDrive/project/test/test/\""
      ],
      "execution_count": 47,
      "outputs": []
    },
    {
      "cell_type": "code",
      "metadata": {
        "id": "GFqGxTWczCii"
      },
      "source": [
        "dest_dir = os.getcwd() + \"/drive/MyDrive/project/train/reordered/\""
      ],
      "execution_count": 16,
      "outputs": []
    },
    {
      "cell_type": "code",
      "metadata": {
        "id": "3g5-IkF-YFhm"
      },
      "source": [
        "test_dest_dir = os.getcwd() + \"/drive/MyDrive/project/test/ordered_test/\""
      ],
      "execution_count": 59,
      "outputs": []
    },
    {
      "cell_type": "code",
      "metadata": {
        "colab": {
          "base_uri": "https://localhost:8080/"
        },
        "id": "r5eEJ-RazK5I",
        "outputId": "79949e9b-fbed-4b9d-95bf-6a88cccd1da4"
      },
      "source": [
        "# Reading the csv file containing image names and corresponding labels\n",
        "skin_df2 = pd.read_csv('/content/drive/MyDrive/project/train.csv')\n",
        "print(skin_df2['Type'].value_counts())\n",
        "\n",
        "label=skin_df2['Type'].unique().tolist()\n",
        "label_images = [] "
      ],
      "execution_count": 17,
      "outputs": [
        {
          "output_type": "stream",
          "text": [
            "Immune        729\n",
            "Connective    726\n",
            "Cancer        546\n",
            "Normal        189\n",
            "Name: Type, dtype: int64\n"
          ],
          "name": "stdout"
        }
      ]
    },
    {
      "cell_type": "code",
      "metadata": {
        "id": "0V-1TCm0j6ue"
      },
      "source": [
        "#unbalanced dataset can be handled using oversampling or undersampling or data augumentation"
      ],
      "execution_count": null,
      "outputs": []
    },
    {
      "cell_type": "code",
      "metadata": {
        "colab": {
          "base_uri": "https://localhost:8080/"
        },
        "id": "hdwnvTNmYWmd",
        "outputId": "34c08c99-745c-433f-e201-9ee2cfe96de3"
      },
      "source": [
        "# Read the csv file containing image names and corresponding labels\n",
        "skin_df = pd.read_csv('/content/drive/MyDrive/project/example.csv')\n",
        "print(skin_df['Type'].value_counts())\n",
        "\n",
        "label_t=skin_df['Type'].unique().tolist()  #Extract labels into a list\n",
        "label_images_t = []"
      ],
      "execution_count": 16,
      "outputs": [
        {
          "output_type": "stream",
          "text": [
            "Normal    400\n",
            "Name: Type, dtype: int64\n"
          ],
          "name": "stdout"
        }
      ]
    },
    {
      "cell_type": "code",
      "metadata": {
        "colab": {
          "base_uri": "https://localhost:8080/"
        },
        "id": "SHwktNqaK4JK",
        "outputId": "7a8dfa2d-8687-4e27-8c2f-adc469146af4"
      },
      "source": [
        "label_images"
      ],
      "execution_count": 53,
      "outputs": [
        {
          "output_type": "execute_result",
          "data": {
            "text/plain": [
              "[]"
            ]
          },
          "metadata": {
            "tags": []
          },
          "execution_count": 53
        }
      ]
    },
    {
      "cell_type": "code",
      "metadata": {
        "id": "wCcmLO_oze1Q"
      },
      "source": [
        "# Copy images to new sub folders\n",
        "for i in label:\n",
        "    os.mkdir(dest_dir + str(i) )\n",
        "    sample = skin_df2[skin_df2['Type'] == i]['Id']\n",
        "    label_images.extend(sample)\n",
        "    for id in label_images:\n",
        "        shutil.copyfile((data_dir  +\"/\"+ str(id) +\".png\"), (dest_dir + i + \"/\" +str(id)+\".png\"))\n",
        "    label_images=[] "
      ],
      "execution_count": 17,
      "outputs": []
    },
    {
      "cell_type": "code",
      "metadata": {
        "colab": {
          "base_uri": "https://localhost:8080/",
          "height": 282
        },
        "id": "OWg7zjRZYqZG",
        "outputId": "c6376d64-553e-43d8-b487-535883194520"
      },
      "source": [
        "# Copy images to new sub folders\n",
        "for i in label:\n",
        "    os.mkdir(test_dest_dir + str(i) )\n",
        "    sample = skin_df[skin_df['Type'] == i]['Id']\n",
        "    label_images_t.extend(sample)\n",
        "    for id in label_images_t:\n",
        "        shutil.copyfile((test_data_dir  +\"/\"+ str(id) +\".png\"), (test_dest_dir + i + \"/\" +str(id)+\".png\"))\n",
        "    label_images_t=[]"
      ],
      "execution_count": 61,
      "outputs": [
        {
          "output_type": "error",
          "ename": "FileNotFoundError",
          "evalue": "ignored",
          "traceback": [
            "\u001b[0;31m---------------------------------------------------------------------------\u001b[0m",
            "\u001b[0;31mFileNotFoundError\u001b[0m                         Traceback (most recent call last)",
            "\u001b[0;32m<ipython-input-61-c26fed0bc08c>\u001b[0m in \u001b[0;36m<module>\u001b[0;34m()\u001b[0m\n\u001b[1;32m      1\u001b[0m \u001b[0;31m# Copy images to new folders\u001b[0m\u001b[0;34m\u001b[0m\u001b[0;34m\u001b[0m\u001b[0;34m\u001b[0m\u001b[0m\n\u001b[1;32m      2\u001b[0m \u001b[0;32mfor\u001b[0m \u001b[0mi\u001b[0m \u001b[0;32min\u001b[0m \u001b[0mlabel\u001b[0m\u001b[0;34m:\u001b[0m\u001b[0;34m\u001b[0m\u001b[0;34m\u001b[0m\u001b[0m\n\u001b[0;32m----> 3\u001b[0;31m     \u001b[0mos\u001b[0m\u001b[0;34m.\u001b[0m\u001b[0mmkdir\u001b[0m\u001b[0;34m(\u001b[0m\u001b[0mtest_dest_dir\u001b[0m \u001b[0;34m+\u001b[0m \u001b[0mstr\u001b[0m\u001b[0;34m(\u001b[0m\u001b[0mi\u001b[0m\u001b[0;34m)\u001b[0m \u001b[0;34m)\u001b[0m\u001b[0;34m\u001b[0m\u001b[0;34m\u001b[0m\u001b[0m\n\u001b[0m\u001b[1;32m      4\u001b[0m     \u001b[0msample\u001b[0m \u001b[0;34m=\u001b[0m \u001b[0mskin_df\u001b[0m\u001b[0;34m[\u001b[0m\u001b[0mskin_df\u001b[0m\u001b[0;34m[\u001b[0m\u001b[0;34m'Type'\u001b[0m\u001b[0;34m]\u001b[0m \u001b[0;34m==\u001b[0m \u001b[0mi\u001b[0m\u001b[0;34m]\u001b[0m\u001b[0;34m[\u001b[0m\u001b[0;34m'Id'\u001b[0m\u001b[0;34m]\u001b[0m\u001b[0;34m\u001b[0m\u001b[0;34m\u001b[0m\u001b[0m\n\u001b[1;32m      5\u001b[0m     \u001b[0mlabel_images_t\u001b[0m\u001b[0;34m.\u001b[0m\u001b[0mextend\u001b[0m\u001b[0;34m(\u001b[0m\u001b[0msample\u001b[0m\u001b[0;34m)\u001b[0m\u001b[0;34m\u001b[0m\u001b[0;34m\u001b[0m\u001b[0m\n",
            "\u001b[0;31mFileNotFoundError\u001b[0m: [Errno 2] No such file or directory: '/content/drive/MyDrive/project/test/ordered_test/Connective'"
          ]
        }
      ]
    },
    {
      "cell_type": "code",
      "metadata": {
        "id": "JdtGZ85HJhIQ"
      },
      "source": [
        "    \n",
        "from keras.preprocessing.image import ImageDataGenerator\n",
        "import os\n",
        "from matplotlib import pyplot as plt\n",
        "\n",
        "datagen = ImageDataGenerator()"
      ],
      "execution_count": 4,
      "outputs": []
    },
    {
      "cell_type": "code",
      "metadata": {
        "colab": {
          "base_uri": "https://localhost:8080/"
        },
        "id": "BTYsYsyXXp_g",
        "outputId": "df03e703-6a52-4788-cc06-9b67d22557bb"
      },
      "source": [
        "test_set = datagen.flow_from_directory('/content/drive/MyDrive/project/test/test',\n",
        "                                            target_size = (224, 224),\n",
        "                                            batch_size = 32,\n",
        "                                            class_mode = 'categorical')"
      ],
      "execution_count": 45,
      "outputs": [
        {
          "output_type": "stream",
          "text": [
            "Found 0 images belonging to 1 classes.\n"
          ],
          "name": "stdout"
        }
      ]
    },
    {
      "cell_type": "code",
      "metadata": {
        "colab": {
          "base_uri": "https://localhost:8080/"
        },
        "id": "yFYnKSUwWRUu",
        "outputId": "357030ca-fd51-425b-8994-ba183be88be9"
      },
      "source": [
        "test_dir = os.getcwd() + \"/drive/MyDrive/project/test\"\n",
        "\n",
        "test_data_keras = datagen.flow_from_directory(directory=test_dir,\n",
        "                                         class_mode='categorical',\n",
        "                                         batch_size=16,  #16 images at a time\n",
        "                                         target_size=(32,32))  #Resize images"
      ],
      "execution_count": 5,
      "outputs": [
        {
          "output_type": "stream",
          "text": [
            "Found 400 images belonging to 1 classes.\n"
          ],
          "name": "stdout"
        }
      ]
    },
    {
      "cell_type": "code",
      "metadata": {
        "colab": {
          "base_uri": "https://localhost:8080/"
        },
        "id": "2mzafHPPJmVE",
        "outputId": "e751651f-2ecf-4d04-c2a2-212318ede965"
      },
      "source": [
        "# training directory that contains subfolders\n",
        "train_dir = os.getcwd() + \"/drive/MyDrive/project/train/reordered\"\n",
        "#Using flow_from_directory\n",
        "train_data_keras = datagen.flow_from_directory(directory=train_dir,\n",
        "                                         class_mode='categorical',\n",
        "                                         batch_size=16,  #16 images at a time\n",
        "                                         target_size=(32,32))  #Resize images"
      ],
      "execution_count": 6,
      "outputs": [
        {
          "output_type": "stream",
          "text": [
            "Found 2736 images belonging to 4 classes.\n"
          ],
          "name": "stdout"
        }
      ]
    },
    {
      "cell_type": "code",
      "metadata": {
        "id": "F_8I5PB3mgN7"
      },
      "source": [
        "#Images in the test set belongs to 4 classes"
      ],
      "execution_count": null,
      "outputs": []
    },
    {
      "cell_type": "code",
      "metadata": {
        "colab": {
          "base_uri": "https://localhost:8080/",
          "height": 1000
        },
        "id": "8BcSSQMGSDmt",
        "outputId": "35090899-d840-4b36-b6de-c3d46775e66e"
      },
      "source": [
        "#sample images\n",
        "x, y = next(train_data_keras)\n",
        "\n",
        "for i in range (0,15):\n",
        "    image = x[i].astype(int)\n",
        "    plt.imshow(image)\n",
        "    plt.show()"
      ],
      "execution_count": 20,
      "outputs": [
        {
          "output_type": "display_data",
          "data": {
            "image/png": "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\n",
            "text/plain": [
              "<Figure size 432x288 with 1 Axes>"
            ]
          },
          "metadata": {
            "tags": [],
            "needs_background": "light"
          }
        },
        {
          "output_type": "display_data",
          "data": {
            "image/png": "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\n",
            "text/plain": [
              "<Figure size 432x288 with 1 Axes>"
            ]
          },
          "metadata": {
            "tags": [],
            "needs_background": "light"
          }
        },
        {
          "output_type": "display_data",
          "data": {
            "image/png": "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\n",
            "text/plain": [
              "<Figure size 432x288 with 1 Axes>"
            ]
          },
          "metadata": {
            "tags": [],
            "needs_background": "light"
          }
        },
        {
          "output_type": "display_data",
          "data": {
            "image/png": "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\n",
            "text/plain": [
              "<Figure size 432x288 with 1 Axes>"
            ]
          },
          "metadata": {
            "tags": [],
            "needs_background": "light"
          }
        },
        {
          "output_type": "display_data",
          "data": {
            "image/png": "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\n",
            "text/plain": [
              "<Figure size 432x288 with 1 Axes>"
            ]
          },
          "metadata": {
            "tags": [],
            "needs_background": "light"
          }
        },
        {
          "output_type": "display_data",
          "data": {
            "image/png": "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\n",
            "text/plain": [
              "<Figure size 432x288 with 1 Axes>"
            ]
          },
          "metadata": {
            "tags": [],
            "needs_background": "light"
          }
        },
        {
          "output_type": "display_data",
          "data": {
            "image/png": "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\n",
            "text/plain": [
              "<Figure size 432x288 with 1 Axes>"
            ]
          },
          "metadata": {
            "tags": [],
            "needs_background": "light"
          }
        },
        {
          "output_type": "display_data",
          "data": {
            "image/png": "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\n",
            "text/plain": [
              "<Figure size 432x288 with 1 Axes>"
            ]
          },
          "metadata": {
            "tags": [],
            "needs_background": "light"
          }
        },
        {
          "output_type": "display_data",
          "data": {
            "image/png": "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\n",
            "text/plain": [
              "<Figure size 432x288 with 1 Axes>"
            ]
          },
          "metadata": {
            "tags": [],
            "needs_background": "light"
          }
        },
        {
          "output_type": "display_data",
          "data": {
            "image/png": "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\n",
            "text/plain": [
              "<Figure size 432x288 with 1 Axes>"
            ]
          },
          "metadata": {
            "tags": [],
            "needs_background": "light"
          }
        },
        {
          "output_type": "display_data",
          "data": {
            "image/png": "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\n",
            "text/plain": [
              "<Figure size 432x288 with 1 Axes>"
            ]
          },
          "metadata": {
            "tags": [],
            "needs_background": "light"
          }
        },
        {
          "output_type": "display_data",
          "data": {
            "image/png": "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\n",
            "text/plain": [
              "<Figure size 432x288 with 1 Axes>"
            ]
          },
          "metadata": {
            "tags": [],
            "needs_background": "light"
          }
        },
        {
          "output_type": "display_data",
          "data": {
            "image/png": "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\n",
            "text/plain": [
              "<Figure size 432x288 with 1 Axes>"
            ]
          },
          "metadata": {
            "tags": [],
            "needs_background": "light"
          }
        },
        {
          "output_type": "display_data",
          "data": {
            "image/png": "iVBORw0KGgoAAAANSUhEUgAAAPsAAAD5CAYAAADhukOtAAAABHNCSVQICAgIfAhkiAAAAAlwSFlzAAALEgAACxIB0t1+/AAAADh0RVh0U29mdHdhcmUAbWF0cGxvdGxpYiB2ZXJzaW9uMy4yLjIsIGh0dHA6Ly9tYXRwbG90bGliLm9yZy+WH4yJAAAfkElEQVR4nO2da4zc13nen3cuO7Oz9ztXvJgXUVdKli1WvkRN5AQJFCOAbKAw7A+GPhhRUMRIDaQfBBWoXaAfnCK24Q+FC7oWohSuL43tSGhdx67iRrUdy6Z1lyhRJEWKl+Uu936bnd2Zefthhi0ln+fsisudpXOeH0Bw9rx7/nPmP/POf+Y8+7yvuTuEEP/0yWz3AoQQrUHJLkQiKNmFSAQluxCJoGQXIhGU7EIkQm4zk83sfgBfBpAF8J/d/fOx3+8udvhwR18wVo9IgAYLjudyfPnVWo3G6lUey+X5MT1D1lFoo3PaC0Uam5+dpbHwPTXIZmNPG5npdTpjubwSua8sjbVFHjd7NtlzCQAeWWNMITbyvMTuz4zPqdf5OhCZxx/1Os8ZOWQttg5yQibmLmGuvBA84lUnu5llAfxHAL8P4ByAX5rZE+7+Cpsz3NGHv/zwnwVjK6tVel/ZTHiZg4ODdM709DSNLczO0djI0BCNrXYWguMDe/fQOXcevJnGfvi3j9NYJvLi7ukPv2ECQA754Hi1skrnvPjKyzTW3cPva3fkcVfr4TdUI88lANTW1ngs8uada+NvOrlM+MNrNh8+TwBQLpdpLBO5GNQi70h9vf38mLnwGueW5ukcrIbv68++/gi/H360dbkHwAl3P+XuqwC+CeCBTRxPCLGFbCbZdwI4e8XP55pjQojrkC3foDOzh8zsqJkdna8sbfXdCSEIm0n28wB2X/HzrubYW3D3I+5+2N0Pdxc6NnF3QojNsJlk/yWAg2a2z8zaAHwcwBPXZllCiGvNVe/Gu3vVzD4N4O/QkN4edXe+rQugXneslMO7wssrFTpvYGCAHI9LEysVfry2yO5tJbIjXCiUwuswvo7JqQkaI5uwAIClRb4j7LNc/snUw1JZoY1LgHcfvofGzpw/R2PFjk4aY27KEydO0DkDg3zHuqe7m8bykZ31Qnt7cDwmexaL/FwVSuHjAUA7uS8AmF/gX2GX58IxjykQTHaOqDib0tnd/fsAvr+ZYwghWoP+gk6IRFCyC5EISnYhEkHJLkQiKNmFSIRN7ca/Y9xRXQ1Lb0vzC3TaKpHDbjt0iM5p7+B/wHP29Gka649oFwXvDY73dHbROcvLyzy2wt1mMWIyTk932Lgyu7RI53RFjDVdXfyxdUTOcb4YNg3dEDkfa2vcDNUbMeSsVbnJp1QIy2GztRk6Z2WNHy9WoLWY49Jbxvi8TC0s3Tox8QAAmRJFV3YhEkHJLkQiKNmFSAQluxCJoGQXIhFauhufy+Uw2Bc2tSxFyiaN7N4VHM+SHV8A6B3h5aViJY7a2/kp6RsIH/PGm26hc44+9Q80dvESN8n09/GSW/li2JADAEVi1Mi38XM1NsHXsVrjO+SVKjcNZWrh89gZUS5i5aDWSJkrAFiLlDSbKE8Gx1erfDu7ssIf11rEKJWNXDvr9UjZNTKeMX681QpZR0Qt0JVdiERQsguRCEp2IRJByS5EIijZhUgEJbsQidBS6c0dYApKX0SSuWFXWHrLtPHaY7U1/tCKXbx2Wm8Hl7X27dsXHB+7+GtFdf8fk1PccJHP81pnluFtlzo6ueGimgmf4KHRHXTOSqT+3+RkWLpqzONGngzpTLO0xE08sdqAMVkuZjaamw0brGKtw2K1DbNZ/pqbjdS1488mUCSv41gXH2TZdVrSmxDJo2QXIhGU7EIkgpJdiERQsguRCEp2IRJhU9KbmZ0GsACgBqDq7odjv1+r1TA7H24wX+jmkhdyYeGiM9ISaGFsjMbWwB1UXUPcbTYwNBwcP/faq3ROtcrdTqOjN/B19PTQ2GrkmKxt1FKRS16DwyM0Vizx52V5KSKHVcJy2Epk7W0lLonyZwyoO79mMcku9tqJyXKxGnSx2nWx1lDF3vBzXYnIje1EPs5E1n4tdPYPuTsXY4UQ1wX6GC9EImw22R3AD83sV2b20LVYkBBia9jsx/h73f28mQ0D+JGZveruT135C803gYcAYLCdfw8VQmwtm7qyu/v55v8TAL4H4Ncafbv7EXc/7O6Hu9p4UwEhxNZy1cluZh1m1nX5NoA/APDStVqYEOLaspmP8SMAvmdml4/zX939B9EZZjDi8Cn19tNp3aTQ4+IUdxllytzJ1d0bbuMEAHvuvJ3GZkgLpdVlLmsVMtwlZQV++vv7+fmYnQnLlwAwuxKOXbw4Tudks5Eim/1cinQYjS0th2WounH/1/Q8dwh2d/HnLFPk7sH+kbDbL1YAsi3ibKuUucPOIoVAswNc6hvYvz84PjM3RefkSAHRLZHe3P0UgHdf7XwhRGuR9CZEIijZhUgEJbsQiaBkFyIRlOxCJEJLC07m29owsmdvMDY4zCWeyUuXguNnj5+gc4Z7udRRiPRRW1jlvbx+8dOfBsezi1yOiRVD7Ik422I2r1JEauokvd5i7rt6jTu5ypVIUck2vo4ika8q4MUcM5Eim71DvHdfU/4NMnb6TDgQOb/ZNp4W+TrvmZctccmOSYAAkO8KS3ZtdS4fZ8ljtgw/F7qyC5EISnYhEkHJLkQiKNmFSAQluxCJ0Nrd+EIBuw7sDcYWprkJ4s2Tp4LjuQJvF5Tp4e2k8t08thzZfe4ohHdil2e5MaW+xnefB4f4Du1MpJUQIu2J1lbDBpQKGQfiO/UzM/x5GRgZpbECaec1WOI25+4+bnbJGb8u5fN8F3yO1DwsR8xLuTxXBXJFfl/FLv7YeiPtzUDq9S1PhlUoAJibmwuOr0ZaeenKLkQiKNmFSAQluxCJoGQXIhGU7EIkgpJdiERoqfTm7qishmWe02++Sed1d4Rli9IAl2ryESNMd38fjVk10hqqGDaZ5Dt42yLUucnkpZd4fU7j6hr6ItLh8ePHg+MDpI4fAHQuhmvrAcB8xMjjWS5RlbrDz81ApL1WO6mrBgDzkdpvtYj5Y3BnuMVWrLUSt/cA1RqXtoolbmzqHOKvx8nz54LjM2MX6Zx8LnyuLNKeSld2IRJByS5EIijZhUgEJbsQiaBkFyIRlOxCJMK60puZPQrgjwBMuPuh5lg/gG8B2AvgNICPuTu3RzWpVquYnJwMxgqkdhoAdHURaSviMrIOLuOUOrlUVl/kbqhF4syrVbgcs7LCXXQxmaQYcfSVl/ga2zrD56QrIkX2RqS8WLujhfEJGpsjslG+doDO6Spx0astz+W1uRV+Pno6yeOOtKFqizjsOsDnFfu5FNy9i8fOnT4fHF9d4TJwLh+WsH2T0ttfAbj/bWMPA3jS3Q8CeLL5sxDiOmbdZG/2W59+2/ADAB5r3n4MwEeu8bqEENeYq/3OPuLuY83bF9Ho6CqEuI7Z9AadN74k0C8KZvaQmR01s6Nzy7yiixBia7naZB83s1EAaP5Pd2rc/Yi7H3b3wz0lvkkkhNharjbZnwDwYPP2gwAevzbLEUJsFRuR3r4B4D4Ag2Z2DsBnAXwewLfN7FMAzgD42IbuzQDkw+8vfSPDdFqeFHos9HLJKBeR3maJ/AcA02+GHUgAb7kzMMzXnsnxUzwwyOddPBeWYwBgYoJLXqVi+HH3DXPXW6zdUU83/zQWa1+1TFxli/MLdM5CRFLsirjlViwiNxXCBSK9xmWt8hpvAVbjyhs6OyPy8SCf2E8e2xuItHLKhmVKi1y/1012d/8ECf3eenOFENcP+gs6IRJByS5EIijZhUgEJbsQiaBkFyIRWlpwMpPLo2MoLAEtrHB31b7bbwmOr5I+XkBcunrthedorIcUlQSAXbt2Bce7I/LUbGSNy0tchspG5KSBWB874nqLGLmixRz7Im65nXvfRWNTc+FedRcmeP+y5VXuHtzdN0BjbZHzUbWwxFbq5c/zUo07Faen324T+f/cuIMfc+4MlxULpLfc3ptupXNq5bDrLRvpe6cruxCJoGQXIhGU7EIkgpJdiERQsguRCEp2IRKhpdJbsVTETXfcFoy1t3PZ4uLFcPHC468d43NeP0ljwzt4YZ1VXocDVSKHjY9zme/NM2/QGFGFAAA7duygsQEiXwJAhhSqvDAxztcR6dnW1c2Leq56xB2G8IMrRIpK5iI922qRHmttWX7NqtfD6+jt53Ldjh4u8+3DThpbngjLjQDw3NM/p7FSMSxvZoljDwCyRK6zyDnUlV2IRFCyC5EISnYhEkHJLkQiKNmFSISW7sYbDFniyDh/ltd++z8//vvgeH4tbAYAgGKWt0/qK5Zo7NTZ0zR2+tyF4Hg10v5pdY6bXe77nQ/xeW2R9+GIcvHmq8eD45lIG6pLc9ysU+rto7HVKj//i8TkU43UfqtUuFlkYYYbUPJFvms9NRU23px45Xk6pztSW292itcvjLXzqlX4uaoQlafUwdfBzEt11OkcXdmFSAQluxCJoGQXIhGU7EIkgpJdiERQsguRCBtp//QogD8CMOHuh5pjnwPwxwAu6xqPuPv31ztWtVbF3NxcMPbayy/ReYvTM8Hxuw/dQefUK+H2QwBQIm2cAGDh5BkaOzceNuS89wP/jM5591130RgzaQBARzs3oJw8z2XKKbLGbI1LMjliqgCAfEQCXF3jkuMakSOXlnm9u65Ivbuar9JYMcul1Fo9bNaxOpfJ5kn9PAAok7ZWAHDo0CEaW67wx91L6ut1RmobLlQXg+PFDm402siV/a8A3B8Y/5K739X8t26iCyG2l3WT3d2fAsD/okEI8RvBZr6zf9rMXjCzR82M/5mVEOK64GqT/SsADgC4C8AYgC+wXzSzh8zsqJkdnZ7TBwQhtourSnZ3H3f3mrvXAXwVwD2R3z3i7ofd/XB/T//VrlMIsUmuKtnNbPSKHz8KgG+lCyGuCzYivX0DwH0ABs3sHIDPArjPzO4C4ABOA/iTjdyZ1+pYWQy7oc6/cZrOKzAnT43XQMvl+EPr6OulsVvvpR9SsHcx7Moqlbj04zku8z3//Ms0dvONN9LYmedepLFlIm0NDw/TObv2jNLY0A28Xt/cdFhGBYAqccS1d3LHXv9wpLZexNm2kuGynLeHpahCjsuNIzv4uaqscvdgV+Rc1cthqQwAukfD57+zi7+Gu4fCcl2+k7s91012d/9EYPhr680TQlxf6C/ohEgEJbsQiaBkFyIRlOxCJIKSXYhEaGnByWq1iulLU8HYzQcO0HmT584Gx5mDDgAuXAgXhwSAm2+5icY6B7j8M7sQlg1PkyKPAHDHnbfT2Ogu3kpocnyCryMSY06pUlcnnbN3P5f5Jhe5Wyt2/nt7wveXj6xjaCdveZXv5C7ApSp33w31FILju3ZzuTETcfrVucqHyhqXgieWeVHPmdlwTkxMcVfkzrbwufIad/Ppyi5EIijZhUgEJbsQiaBkFyIRlOxCJIKSXYhEaKn0Vq/VsTwfdv/0lSLFBgfDMsP8XFiyAICebu5EO3uGF5UstPGCfSBFCu84dCedMj/Nixf+/Gc/pbHRIe6gypW4DNXeFT6Pe/bsoXNef+0Yjc1Wufxz66FbaSyfD7vU1nL8+tLRx18DKPCXaj7fRWOWDa8/2xG5zvGakpifDBc/BYDFiEyJRe6Wq5TDr6vpWS6xZmphV+HaCpf/dGUXIhGU7EIkgpJdiERQsguRCEp2IRKhpbvx5kAuvImISmQXccfoDeHjZXlLo9kZfrzubl6DrpjnRo2xc+G2S+dPh406AFB18oAB3HrLbTS2REw3ANAWaQ3V1dsTHC8UeO23/fsO0lg50nZpcHCQxpYq4d3nuWX+uBZW+G52rc5fqsUMr/PX3R42wixcDNcTBICJN8MttABgcYarK5k8X2OWqBMAsObh7f/sGj9eeSZ8rupVnhO6sguRCEp2IRJByS5EIijZhUgEJbsQiaBkFyIRNtL+aTeAvwYwgka7pyPu/mUz6wfwLQB70WgB9TF35y4BAPVaDYuz4bplc6QtFADcfmfYaLJ737vonKkpXoOussLlpD038Npk1UpYzhsf5/dVq/CaYEPDXLqKSWXl5bAE2CDc1mhpiUtN4+f58Yb27KKxiYtcosp2hI1IA0O8xh+y/OW4ssrdKaWhsNwIADnia7rwGjeZLMxzea2Y5W2j8m289VKpm69xjdSuWzV+LS4vhQ0+dWLWAjZ2Za8C+HN3vw3A+wH8qZndBuBhAE+6+0EATzZ/FkJcp6yb7O4+5u7PNG8vADgGYCeABwA81vy1xwB8ZKsWKYTYPO/oO7uZ7QXwHgBPAxhx97Fm6CIaH/OFENcpG052M+sE8B0An3H3txTBdndH4/t8aN5DZnbUzI7OlXntbCHE1rKhZDezPBqJ/nV3/25zeNzMRpvxUQDBHQ93P+Luh939cE97pBKJEGJLWTfZzczQ6Md+zN2/eEXoCQAPNm8/CODxa788IcS1YiOut98C8EkAL5rZc82xRwB8HsC3zexTAM4A+Nh6B6pW1zA9ORmMHTvxOp3XTloJ3XQzl97KS1zKK9d5u6DnnnmGxj74gfcFxxcX+deT14hTDgBOnjxJYwci7bAyOf60TU6H1c+BEd5aqdTBa7gtRNx3kxPheoIAcMf77g6O33z7ITrn0jxXbtdWeS28Uo7LYRMXwutfIrUQAWCwb4DGLFKTr87NdygvcumzTlx7pRJ3YM5fxVfidZPd3X8CgD2M33vH9yiE2Bb0F3RCJIKSXYhEULILkQhKdiESQckuRCK0tOBkrVrD3NR0MNZe4o6h/TftD45fmjxP54yPj9PY3XceprEXn3mFxn7207Bk1xaRwg7dxotKdnRxyevFZ5+lsf5Im6RqLSycLFe406/Yw4+3muMuqnxk/UO7dgfHK6RtEQAszPOCkx3dvMjmzIWwkxIAxt4kxUBrvDBjZ4m3Dpud4vLgzAyPnXrjTRrr7+8Pju/Zt5fOGewJF03NRZyDurILkQhKdiESQckuRCIo2YVIBCW7EImgZBciEVoqvWUyGbS3hwsp9u7kTqMDB/cEx49OcjnjYMQ19g8//nsaG+gKyyAAsELcbZVIz7mevj4am5/njrJslluoCgXu8sohXGExV+AyWXsnL4Z4993hYp8AsBTpA3dpMiyxvn7qDTqns8TXONLLXx/j58ZobGk6fI57evhjnh7nBSfX1vhzXVnmbsob9+6lsYaL/NeZGw87RAGgnAv3sKuS4pWAruxCJIOSXYhEULILkQhKdiESQckuRCK0dDc+m82gpze849rWQ/r0ADh+6nhwnO1iAsDqCt+V3DHId3az3PeB1Up4Z3d6hhsxynyDFl29fKc+0vkH5WVeP62dnN/2Tr7Tfe4ib4U0PDFFY/sP30Jjr/zPHwXHs5H2SV7jL8exk8TQAmB5kZ+P6YvhHe2+9kjLqC5uylpd4bXf2ovcQNPdyevJeS1c126hwl9X58+EVY21Va6Q6MouRCIo2YVIBCW7EImgZBciEZTsQiSCkl2IRFhXejOz3QD+Go2WzA7giLt/2cw+B+CPAVxq/uoj7v792LFq9ToWl8JtcLq6+VJeeO654PiOvnAdLgA4feoUjXUXw2YcACgvc3PKEjE6VOtcr8tEarj19PLabyuLvJ7ZJGmhBQC37AwbgDoj52rxDd6G6gdP/C2NfWiJNwSqzoTPY2cvX8dCROYbL5dprL2d16frJrFKhWuiff18jattXCKuRUwyUxF5s9gWlvrajOcEk4gtIh1vRGevAvhzd3/GzLoA/MrMLouoX3L3v9zAMYQQ28xGer2NARhr3l4ws2MAdm71woQQ15Z39J3dzPYCeA+Ap5tDnzazF8zsUTPjfw4mhNh2NpzsZtYJ4DsAPuPu8wC+AuAAgLvQuPJ/gcx7yMyOmtnRhQpvWyuE2Fo2lOxmlkcj0b/u7t8FAHcfd/eau9cBfBXAPaG57n7E3Q+7++GuAt9IEUJsLesmuzXcJl8DcMzdv3jF+OgVv/ZRAC9d++UJIa4VG9mN/y0AnwTwopld1sAeAfAJM7sLDTnuNIA/We9Apc4OvOeD7w/GxiZ4Pbmpc+FWTnNVLnV0RVoTrZVXaMwirqwykX96+njdun7SpgcAcuCuvVKRSzyTEWfT9HS49lux81JwHAD6OrlbCxXekqm+yL+WLV8IS03/+3/8gM754H2/Q2P9oztorNjOz9XuA3uD4wsLXGIdu3CRxuBhhxoAVJa5PFivcRem5cKvudoav6+OtrB8nMnw19RGduN/AgRflVFNXQhxfaG/oBMiEZTsQiSCkl2IRFCyC5EISnYhEqGlBSfrDizXqsFYTzeXqIZIS6aL58/ROcUCd7ZVqlzSqGf4+19Hd1jOK0ZkspiLLka9zmXFgf5BGpsljrhXj4WLdgLA7bffTmN7do7SWD5SFfPSbNi1d+DgQTon28ZfjsORIqHltViRxbANzMHPbyZiHTv5OncIxq6cu0dvoLG1cjgnZi9xd2N7Bylg6Vx605VdiERQsguRCEp2IRJByS5EIijZhUgEJbsQidDiXm9ZdJGCg2OnuMxQK4ellVxEZqhHHEPlCpdqUOfzenvDEmAbKRgIAIuRPmRLpPgmABTy/JjFSE+xytRs+HgRqWlqmp/7u+/9AI3t2refH9PC93fmHO/Z1j0yRGNvnOWuyOEdXJabuhR2+124xAtAjg6P0Fh/P3c45iOybXmRuwdZTdLpybCDEQAG6uHU9Yhkqyu7EImgZBciEZTsQiSCkl2IRFCyC5EISnYhEqGl0ptlsyh09wRjZy+cp/Oql8IOqtUy79dVrvLif7WIS8ojBQVzpBhlrLilO3dQTU1xaSVLzhMAlEq8Rxxz5vUOcMmoI9IH7h9//jMau63CC3fWSN3OTI6/5Lq6iJMLwMnjr9NYdzef19cTftyrS1wKm5vhffZKETdlPfK6WokUCQUpEpmNXIvn58MSa63GX7+6sguRCEp2IRJByS5EIijZhUgEJbsQibDubryZFQE8BaDQ/P2/cffPmtk+AN8EMADgVwA+6e6RLUcgl8uhv3c4GHvf+/45nffSP/4kOD52lptMlucjtd8iZoEc95/ASO26WjVcQwwAqmu87U+UbJ6GBkZ4XbhqLfwUlJe5ctEX2alfjNT5m5/gCkr/SLhdU72XN/c8eexVGtu3ZzeNnTnNTTL79h0IjvcPctPN8jLfqa+t8limzpWXbESFqDJjlvNr8dx8+LW/2d34CoDfdfd3o9Ge+X4zez+AvwDwJXe/EcAMgE9t4FhCiG1i3WT3BpffRvLNfw7gdwH8TXP8MQAf2ZIVCiGuCRvtz55tdnCdAPAjACcBzLr75c+v5wDs3JolCiGuBRtKdnevuftdAHYBuAfALRu9AzN7yMyOmtnRyVleJEEIsbW8o914d58F8GMAHwDQa2aXdx12AQju1rj7EXc/7O6HB3t5cwMhxNaybrKb2ZCZ9TZvtwP4fQDH0Ej6f9H8tQcBPL5VixRCbJ6NGGFGATxmZlk03hy+7e7/3cxeAfBNM/v3AJ4F8LX1DlQpr+D0q2F55eC+d9F5I/d/ODj+g8e/R+csEqMAABRi8lo2VsMrHJudDNc5A4CVSKspy3F5rbOHm10WIi2lSsQIU8gX6JzVCpcO2yIy5ezFcRobIOaUtkj9v9tv5DXthkf5ltCzz75MY8tLYUNUe6SOX3mJr7FW4+afQjs3yRSMp9oiaf9UJ3X8AG6+yhCzFrCBZHf3FwC8JzB+Co3v70KI3wD0F3RCJIKSXYhEULILkQhKdiESQckuRCJYrEbaNb8zs0sAzjR/HARwPfxJndbxVrSOt/Kbto53uXvQ0tfSZH/LHZsddffD23LnWofWkeA69DFeiERQsguRCNuZ7Ee28b6vROt4K1rHW/kns45t+84uhGgt+hgvRCJsS7Kb2f1m9pqZnTCzh7djDc11nDazF83sOTM72sL7fdTMJszspSvG+s3sR2b2evP/vm1ax+fM7HzznDxnZmHL4bVdx24z+7GZvWJmL5vZv2qOt/ScRNbR0nNiZkUz+4WZPd9cx79rju8zs6ebefMtM4v4NwO4e0v/AciiUdZqP4A2AM8DuK3V62iu5TSAwW24398G8F4AL10x9h8APNy8/TCAv9imdXwOwL9u8fkYBfDe5u0uAMcB3NbqcxJZR0vPCQAD0Nm8nQfwNID3A/g2gI83x/8TgH/5To67HVf2ewCccPdT3ig9/U0AD2zDOrYNd38KwNu7Oj6ARuFOoEUFPMk6Wo67j7n7M83bC2gUR9mJFp+TyDpaije45kVetyPZdwI4e8XP21ms0gH80Mx+ZWYPbdMaLjPi7mPN2xcBjGzjWj5tZi80P+Zv+deJKzGzvWjUT3ga23hO3rYOoMXnZCuKvKa+QXevu78XwB8C+FMz++3tXhDQeGdH441oO/gKgANo9AgYA/CFVt2xmXUC+A6Az7j7/JWxVp6TwDpafk58E0VeGduR7OcBXNnegxar3Grc/Xzz/wkA38P2Vt4ZN7NRAGj+P7Edi3D38eYLrQ7gq2jROTGzPBoJ9nV3/25zuOXnJLSO7Tonzft+x0VeGduR7L8EcLC5s9gG4OMAnmj1Isysw8y6Lt8G8AcAXorP2lKeQKNwJ7CNBTwvJ1eTj6IF58TMDI0ahsfc/YtXhFp6Ttg6Wn1OtqzIa6t2GN+22/hhNHY6TwL4N9u0hv1oKAHPA3i5lesA8A00Pg6uofHd61No9Mx7EsDrAP4XgP5tWsd/AfAigBfQSLbRFqzjXjQ+or8A4Lnmvw+3+pxE1tHScwLgTjSKuL6AxhvLv73iNfsLACcA/DcAhXdyXP0FnRCJkPoGnRDJoGQXIhGU7EIkgpJdiERQsguRCEp2IRJByS5EIijZhUiE/wsM+EqKcjnmJQAAAABJRU5ErkJggg==\n",
            "text/plain": [
              "<Figure size 432x288 with 1 Axes>"
            ]
          },
          "metadata": {
            "tags": [],
            "needs_background": "light"
          }
        },
        {
          "output_type": "display_data",
          "data": {
            "image/png": "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\n",
            "text/plain": [
              "<Figure size 432x288 with 1 Axes>"
            ]
          },
          "metadata": {
            "tags": [],
            "needs_background": "light"
          }
        }
      ]
    },
    {
      "cell_type": "code",
      "metadata": {
        "id": "cvcQOWg1VPi1"
      },
      "source": [
        "train_path = '/content/drive/MyDrive/project/train'\n",
        "valid_path = '/content/drive/MyDrive/project/test'"
      ],
      "execution_count": 30,
      "outputs": []
    },
    {
      "cell_type": "code",
      "metadata": {
        "id": "-ObaKV1gVhA7"
      },
      "source": [
        "\n",
        "from tensorflow.keras.layers import Input, Lambda, Dense, Flatten\n",
        "from tensorflow.keras.models import Model\n",
        "from tensorflow.keras.applications.inception_v3 import InceptionV3\n",
        "#from keras.applications.vgg16 import VGG16\n",
        "from tensorflow.keras.applications.inception_v3 import preprocess_input\n",
        "from tensorflow.keras.preprocessing import image\n",
        "from tensorflow.keras.preprocessing.image import ImageDataGenerator,load_img\n",
        "from tensorflow.keras.models import Sequential\n",
        "import numpy as np\n",
        "from glob import glob\n",
        "#import matplotlib.pyplot as plt"
      ],
      "execution_count": 18,
      "outputs": []
    },
    {
      "cell_type": "code",
      "metadata": {
        "id": "SE3sW6WkmtZb"
      },
      "source": [
        "#using the transfer learning techniques, and using the pretrained models"
      ],
      "execution_count": null,
      "outputs": []
    },
    {
      "cell_type": "code",
      "metadata": {
        "id": "E6sKTR7NVaQs"
      },
      "source": [
        "# Import the Vgg 16 library as shown below and add preprocessing layer to the front of VGG\n",
        "\n",
        "# re-sizing all the images to this\n",
        "IMAGE_SIZE = [224, 224]\n",
        "inception = InceptionV3(input_shape=IMAGE_SIZE + [3], weights='imagenet', include_top=False)"
      ],
      "execution_count": 19,
      "outputs": []
    },
    {
      "cell_type": "code",
      "metadata": {
        "id": "tMCteeisVrbw"
      },
      "source": [
        "# Freezing the existing weights \n",
        "for layer in inception.layers:\n",
        "    layer.trainable = False"
      ],
      "execution_count": 20,
      "outputs": []
    },
    {
      "cell_type": "code",
      "metadata": {
        "id": "qJyYXad5VwPr"
      },
      "source": [
        "# our new output layers \n",
        "x = Flatten()(inception.output)"
      ],
      "execution_count": 21,
      "outputs": []
    },
    {
      "cell_type": "code",
      "metadata": {
        "id": "foT5eLn5VzmM"
      },
      "source": [
        "prediction = Dense(4, activation='softmax')(x)\n",
        "\n",
        "# creating a model object\n",
        "model = Model(inputs=inception.input, outputs=prediction)"
      ],
      "execution_count": 22,
      "outputs": []
    },
    {
      "cell_type": "code",
      "metadata": {
        "colab": {
          "base_uri": "https://localhost:8080/"
        },
        "id": "UGFpezAZV2b0",
        "outputId": "41002251-f743-4460-f227-befb213110f2"
      },
      "source": [
        "#structure of the model\n",
        "model.summary()"
      ],
      "execution_count": 9,
      "outputs": [
        {
          "output_type": "stream",
          "text": [
            "Model: \"model\"\n",
            "__________________________________________________________________________________________________\n",
            "Layer (type)                    Output Shape         Param #     Connected to                     \n",
            "==================================================================================================\n",
            "input_1 (InputLayer)            [(None, 224, 224, 3) 0                                            \n",
            "__________________________________________________________________________________________________\n",
            "conv2d (Conv2D)                 (None, 111, 111, 32) 864         input_1[0][0]                    \n",
            "__________________________________________________________________________________________________\n",
            "batch_normalization (BatchNorma (None, 111, 111, 32) 96          conv2d[0][0]                     \n",
            "__________________________________________________________________________________________________\n",
            "activation (Activation)         (None, 111, 111, 32) 0           batch_normalization[0][0]        \n",
            "__________________________________________________________________________________________________\n",
            "conv2d_1 (Conv2D)               (None, 109, 109, 32) 9216        activation[0][0]                 \n",
            "__________________________________________________________________________________________________\n",
            "batch_normalization_1 (BatchNor (None, 109, 109, 32) 96          conv2d_1[0][0]                   \n",
            "__________________________________________________________________________________________________\n",
            "activation_1 (Activation)       (None, 109, 109, 32) 0           batch_normalization_1[0][0]      \n",
            "__________________________________________________________________________________________________\n",
            "conv2d_2 (Conv2D)               (None, 109, 109, 64) 18432       activation_1[0][0]               \n",
            "__________________________________________________________________________________________________\n",
            "batch_normalization_2 (BatchNor (None, 109, 109, 64) 192         conv2d_2[0][0]                   \n",
            "__________________________________________________________________________________________________\n",
            "activation_2 (Activation)       (None, 109, 109, 64) 0           batch_normalization_2[0][0]      \n",
            "__________________________________________________________________________________________________\n",
            "max_pooling2d (MaxPooling2D)    (None, 54, 54, 64)   0           activation_2[0][0]               \n",
            "__________________________________________________________________________________________________\n",
            "conv2d_3 (Conv2D)               (None, 54, 54, 80)   5120        max_pooling2d[0][0]              \n",
            "__________________________________________________________________________________________________\n",
            "batch_normalization_3 (BatchNor (None, 54, 54, 80)   240         conv2d_3[0][0]                   \n",
            "__________________________________________________________________________________________________\n",
            "activation_3 (Activation)       (None, 54, 54, 80)   0           batch_normalization_3[0][0]      \n",
            "__________________________________________________________________________________________________\n",
            "conv2d_4 (Conv2D)               (None, 52, 52, 192)  138240      activation_3[0][0]               \n",
            "__________________________________________________________________________________________________\n",
            "batch_normalization_4 (BatchNor (None, 52, 52, 192)  576         conv2d_4[0][0]                   \n",
            "__________________________________________________________________________________________________\n",
            "activation_4 (Activation)       (None, 52, 52, 192)  0           batch_normalization_4[0][0]      \n",
            "__________________________________________________________________________________________________\n",
            "max_pooling2d_1 (MaxPooling2D)  (None, 25, 25, 192)  0           activation_4[0][0]               \n",
            "__________________________________________________________________________________________________\n",
            "conv2d_8 (Conv2D)               (None, 25, 25, 64)   12288       max_pooling2d_1[0][0]            \n",
            "__________________________________________________________________________________________________\n",
            "batch_normalization_8 (BatchNor (None, 25, 25, 64)   192         conv2d_8[0][0]                   \n",
            "__________________________________________________________________________________________________\n",
            "activation_8 (Activation)       (None, 25, 25, 64)   0           batch_normalization_8[0][0]      \n",
            "__________________________________________________________________________________________________\n",
            "conv2d_6 (Conv2D)               (None, 25, 25, 48)   9216        max_pooling2d_1[0][0]            \n",
            "__________________________________________________________________________________________________\n",
            "conv2d_9 (Conv2D)               (None, 25, 25, 96)   55296       activation_8[0][0]               \n",
            "__________________________________________________________________________________________________\n",
            "batch_normalization_6 (BatchNor (None, 25, 25, 48)   144         conv2d_6[0][0]                   \n",
            "__________________________________________________________________________________________________\n",
            "batch_normalization_9 (BatchNor (None, 25, 25, 96)   288         conv2d_9[0][0]                   \n",
            "__________________________________________________________________________________________________\n",
            "activation_6 (Activation)       (None, 25, 25, 48)   0           batch_normalization_6[0][0]      \n",
            "__________________________________________________________________________________________________\n",
            "activation_9 (Activation)       (None, 25, 25, 96)   0           batch_normalization_9[0][0]      \n",
            "__________________________________________________________________________________________________\n",
            "average_pooling2d (AveragePooli (None, 25, 25, 192)  0           max_pooling2d_1[0][0]            \n",
            "__________________________________________________________________________________________________\n",
            "conv2d_5 (Conv2D)               (None, 25, 25, 64)   12288       max_pooling2d_1[0][0]            \n",
            "__________________________________________________________________________________________________\n",
            "conv2d_7 (Conv2D)               (None, 25, 25, 64)   76800       activation_6[0][0]               \n",
            "__________________________________________________________________________________________________\n",
            "conv2d_10 (Conv2D)              (None, 25, 25, 96)   82944       activation_9[0][0]               \n",
            "__________________________________________________________________________________________________\n",
            "conv2d_11 (Conv2D)              (None, 25, 25, 32)   6144        average_pooling2d[0][0]          \n",
            "__________________________________________________________________________________________________\n",
            "batch_normalization_5 (BatchNor (None, 25, 25, 64)   192         conv2d_5[0][0]                   \n",
            "__________________________________________________________________________________________________\n",
            "batch_normalization_7 (BatchNor (None, 25, 25, 64)   192         conv2d_7[0][0]                   \n",
            "__________________________________________________________________________________________________\n",
            "batch_normalization_10 (BatchNo (None, 25, 25, 96)   288         conv2d_10[0][0]                  \n",
            "__________________________________________________________________________________________________\n",
            "batch_normalization_11 (BatchNo (None, 25, 25, 32)   96          conv2d_11[0][0]                  \n",
            "__________________________________________________________________________________________________\n",
            "activation_5 (Activation)       (None, 25, 25, 64)   0           batch_normalization_5[0][0]      \n",
            "__________________________________________________________________________________________________\n",
            "activation_7 (Activation)       (None, 25, 25, 64)   0           batch_normalization_7[0][0]      \n",
            "__________________________________________________________________________________________________\n",
            "activation_10 (Activation)      (None, 25, 25, 96)   0           batch_normalization_10[0][0]     \n",
            "__________________________________________________________________________________________________\n",
            "activation_11 (Activation)      (None, 25, 25, 32)   0           batch_normalization_11[0][0]     \n",
            "__________________________________________________________________________________________________\n",
            "mixed0 (Concatenate)            (None, 25, 25, 256)  0           activation_5[0][0]               \n",
            "                                                                 activation_7[0][0]               \n",
            "                                                                 activation_10[0][0]              \n",
            "                                                                 activation_11[0][0]              \n",
            "__________________________________________________________________________________________________\n",
            "conv2d_15 (Conv2D)              (None, 25, 25, 64)   16384       mixed0[0][0]                     \n",
            "__________________________________________________________________________________________________\n",
            "batch_normalization_15 (BatchNo (None, 25, 25, 64)   192         conv2d_15[0][0]                  \n",
            "__________________________________________________________________________________________________\n",
            "activation_15 (Activation)      (None, 25, 25, 64)   0           batch_normalization_15[0][0]     \n",
            "__________________________________________________________________________________________________\n",
            "conv2d_13 (Conv2D)              (None, 25, 25, 48)   12288       mixed0[0][0]                     \n",
            "__________________________________________________________________________________________________\n",
            "conv2d_16 (Conv2D)              (None, 25, 25, 96)   55296       activation_15[0][0]              \n",
            "__________________________________________________________________________________________________\n",
            "batch_normalization_13 (BatchNo (None, 25, 25, 48)   144         conv2d_13[0][0]                  \n",
            "__________________________________________________________________________________________________\n",
            "batch_normalization_16 (BatchNo (None, 25, 25, 96)   288         conv2d_16[0][0]                  \n",
            "__________________________________________________________________________________________________\n",
            "activation_13 (Activation)      (None, 25, 25, 48)   0           batch_normalization_13[0][0]     \n",
            "__________________________________________________________________________________________________\n",
            "activation_16 (Activation)      (None, 25, 25, 96)   0           batch_normalization_16[0][0]     \n",
            "__________________________________________________________________________________________________\n",
            "average_pooling2d_1 (AveragePoo (None, 25, 25, 256)  0           mixed0[0][0]                     \n",
            "__________________________________________________________________________________________________\n",
            "conv2d_12 (Conv2D)              (None, 25, 25, 64)   16384       mixed0[0][0]                     \n",
            "__________________________________________________________________________________________________\n",
            "conv2d_14 (Conv2D)              (None, 25, 25, 64)   76800       activation_13[0][0]              \n",
            "__________________________________________________________________________________________________\n",
            "conv2d_17 (Conv2D)              (None, 25, 25, 96)   82944       activation_16[0][0]              \n",
            "__________________________________________________________________________________________________\n",
            "conv2d_18 (Conv2D)              (None, 25, 25, 64)   16384       average_pooling2d_1[0][0]        \n",
            "__________________________________________________________________________________________________\n",
            "batch_normalization_12 (BatchNo (None, 25, 25, 64)   192         conv2d_12[0][0]                  \n",
            "__________________________________________________________________________________________________\n",
            "batch_normalization_14 (BatchNo (None, 25, 25, 64)   192         conv2d_14[0][0]                  \n",
            "__________________________________________________________________________________________________\n",
            "batch_normalization_17 (BatchNo (None, 25, 25, 96)   288         conv2d_17[0][0]                  \n",
            "__________________________________________________________________________________________________\n",
            "batch_normalization_18 (BatchNo (None, 25, 25, 64)   192         conv2d_18[0][0]                  \n",
            "__________________________________________________________________________________________________\n",
            "activation_12 (Activation)      (None, 25, 25, 64)   0           batch_normalization_12[0][0]     \n",
            "__________________________________________________________________________________________________\n",
            "activation_14 (Activation)      (None, 25, 25, 64)   0           batch_normalization_14[0][0]     \n",
            "__________________________________________________________________________________________________\n",
            "activation_17 (Activation)      (None, 25, 25, 96)   0           batch_normalization_17[0][0]     \n",
            "__________________________________________________________________________________________________\n",
            "activation_18 (Activation)      (None, 25, 25, 64)   0           batch_normalization_18[0][0]     \n",
            "__________________________________________________________________________________________________\n",
            "mixed1 (Concatenate)            (None, 25, 25, 288)  0           activation_12[0][0]              \n",
            "                                                                 activation_14[0][0]              \n",
            "                                                                 activation_17[0][0]              \n",
            "                                                                 activation_18[0][0]              \n",
            "__________________________________________________________________________________________________\n",
            "conv2d_22 (Conv2D)              (None, 25, 25, 64)   18432       mixed1[0][0]                     \n",
            "__________________________________________________________________________________________________\n",
            "batch_normalization_22 (BatchNo (None, 25, 25, 64)   192         conv2d_22[0][0]                  \n",
            "__________________________________________________________________________________________________\n",
            "activation_22 (Activation)      (None, 25, 25, 64)   0           batch_normalization_22[0][0]     \n",
            "__________________________________________________________________________________________________\n",
            "conv2d_20 (Conv2D)              (None, 25, 25, 48)   13824       mixed1[0][0]                     \n",
            "__________________________________________________________________________________________________\n",
            "conv2d_23 (Conv2D)              (None, 25, 25, 96)   55296       activation_22[0][0]              \n",
            "__________________________________________________________________________________________________\n",
            "batch_normalization_20 (BatchNo (None, 25, 25, 48)   144         conv2d_20[0][0]                  \n",
            "__________________________________________________________________________________________________\n",
            "batch_normalization_23 (BatchNo (None, 25, 25, 96)   288         conv2d_23[0][0]                  \n",
            "__________________________________________________________________________________________________\n",
            "activation_20 (Activation)      (None, 25, 25, 48)   0           batch_normalization_20[0][0]     \n",
            "__________________________________________________________________________________________________\n",
            "activation_23 (Activation)      (None, 25, 25, 96)   0           batch_normalization_23[0][0]     \n",
            "__________________________________________________________________________________________________\n",
            "average_pooling2d_2 (AveragePoo (None, 25, 25, 288)  0           mixed1[0][0]                     \n",
            "__________________________________________________________________________________________________\n",
            "conv2d_19 (Conv2D)              (None, 25, 25, 64)   18432       mixed1[0][0]                     \n",
            "__________________________________________________________________________________________________\n",
            "conv2d_21 (Conv2D)              (None, 25, 25, 64)   76800       activation_20[0][0]              \n",
            "__________________________________________________________________________________________________\n",
            "conv2d_24 (Conv2D)              (None, 25, 25, 96)   82944       activation_23[0][0]              \n",
            "__________________________________________________________________________________________________\n",
            "conv2d_25 (Conv2D)              (None, 25, 25, 64)   18432       average_pooling2d_2[0][0]        \n",
            "__________________________________________________________________________________________________\n",
            "batch_normalization_19 (BatchNo (None, 25, 25, 64)   192         conv2d_19[0][0]                  \n",
            "__________________________________________________________________________________________________\n",
            "batch_normalization_21 (BatchNo (None, 25, 25, 64)   192         conv2d_21[0][0]                  \n",
            "__________________________________________________________________________________________________\n",
            "batch_normalization_24 (BatchNo (None, 25, 25, 96)   288         conv2d_24[0][0]                  \n",
            "__________________________________________________________________________________________________\n",
            "batch_normalization_25 (BatchNo (None, 25, 25, 64)   192         conv2d_25[0][0]                  \n",
            "__________________________________________________________________________________________________\n",
            "activation_19 (Activation)      (None, 25, 25, 64)   0           batch_normalization_19[0][0]     \n",
            "__________________________________________________________________________________________________\n",
            "activation_21 (Activation)      (None, 25, 25, 64)   0           batch_normalization_21[0][0]     \n",
            "__________________________________________________________________________________________________\n",
            "activation_24 (Activation)      (None, 25, 25, 96)   0           batch_normalization_24[0][0]     \n",
            "__________________________________________________________________________________________________\n",
            "activation_25 (Activation)      (None, 25, 25, 64)   0           batch_normalization_25[0][0]     \n",
            "__________________________________________________________________________________________________\n",
            "mixed2 (Concatenate)            (None, 25, 25, 288)  0           activation_19[0][0]              \n",
            "                                                                 activation_21[0][0]              \n",
            "                                                                 activation_24[0][0]              \n",
            "                                                                 activation_25[0][0]              \n",
            "__________________________________________________________________________________________________\n",
            "conv2d_27 (Conv2D)              (None, 25, 25, 64)   18432       mixed2[0][0]                     \n",
            "__________________________________________________________________________________________________\n",
            "batch_normalization_27 (BatchNo (None, 25, 25, 64)   192         conv2d_27[0][0]                  \n",
            "__________________________________________________________________________________________________\n",
            "activation_27 (Activation)      (None, 25, 25, 64)   0           batch_normalization_27[0][0]     \n",
            "__________________________________________________________________________________________________\n",
            "conv2d_28 (Conv2D)              (None, 25, 25, 96)   55296       activation_27[0][0]              \n",
            "__________________________________________________________________________________________________\n",
            "batch_normalization_28 (BatchNo (None, 25, 25, 96)   288         conv2d_28[0][0]                  \n",
            "__________________________________________________________________________________________________\n",
            "activation_28 (Activation)      (None, 25, 25, 96)   0           batch_normalization_28[0][0]     \n",
            "__________________________________________________________________________________________________\n",
            "conv2d_26 (Conv2D)              (None, 12, 12, 384)  995328      mixed2[0][0]                     \n",
            "__________________________________________________________________________________________________\n",
            "conv2d_29 (Conv2D)              (None, 12, 12, 96)   82944       activation_28[0][0]              \n",
            "__________________________________________________________________________________________________\n",
            "batch_normalization_26 (BatchNo (None, 12, 12, 384)  1152        conv2d_26[0][0]                  \n",
            "__________________________________________________________________________________________________\n",
            "batch_normalization_29 (BatchNo (None, 12, 12, 96)   288         conv2d_29[0][0]                  \n",
            "__________________________________________________________________________________________________\n",
            "activation_26 (Activation)      (None, 12, 12, 384)  0           batch_normalization_26[0][0]     \n",
            "__________________________________________________________________________________________________\n",
            "activation_29 (Activation)      (None, 12, 12, 96)   0           batch_normalization_29[0][0]     \n",
            "__________________________________________________________________________________________________\n",
            "max_pooling2d_2 (MaxPooling2D)  (None, 12, 12, 288)  0           mixed2[0][0]                     \n",
            "__________________________________________________________________________________________________\n",
            "mixed3 (Concatenate)            (None, 12, 12, 768)  0           activation_26[0][0]              \n",
            "                                                                 activation_29[0][0]              \n",
            "                                                                 max_pooling2d_2[0][0]            \n",
            "__________________________________________________________________________________________________\n",
            "conv2d_34 (Conv2D)              (None, 12, 12, 128)  98304       mixed3[0][0]                     \n",
            "__________________________________________________________________________________________________\n",
            "batch_normalization_34 (BatchNo (None, 12, 12, 128)  384         conv2d_34[0][0]                  \n",
            "__________________________________________________________________________________________________\n",
            "activation_34 (Activation)      (None, 12, 12, 128)  0           batch_normalization_34[0][0]     \n",
            "__________________________________________________________________________________________________\n",
            "conv2d_35 (Conv2D)              (None, 12, 12, 128)  114688      activation_34[0][0]              \n",
            "__________________________________________________________________________________________________\n",
            "batch_normalization_35 (BatchNo (None, 12, 12, 128)  384         conv2d_35[0][0]                  \n",
            "__________________________________________________________________________________________________\n",
            "activation_35 (Activation)      (None, 12, 12, 128)  0           batch_normalization_35[0][0]     \n",
            "__________________________________________________________________________________________________\n",
            "conv2d_31 (Conv2D)              (None, 12, 12, 128)  98304       mixed3[0][0]                     \n",
            "__________________________________________________________________________________________________\n",
            "conv2d_36 (Conv2D)              (None, 12, 12, 128)  114688      activation_35[0][0]              \n",
            "__________________________________________________________________________________________________\n",
            "batch_normalization_31 (BatchNo (None, 12, 12, 128)  384         conv2d_31[0][0]                  \n",
            "__________________________________________________________________________________________________\n",
            "batch_normalization_36 (BatchNo (None, 12, 12, 128)  384         conv2d_36[0][0]                  \n",
            "__________________________________________________________________________________________________\n",
            "activation_31 (Activation)      (None, 12, 12, 128)  0           batch_normalization_31[0][0]     \n",
            "__________________________________________________________________________________________________\n",
            "activation_36 (Activation)      (None, 12, 12, 128)  0           batch_normalization_36[0][0]     \n",
            "__________________________________________________________________________________________________\n",
            "conv2d_32 (Conv2D)              (None, 12, 12, 128)  114688      activation_31[0][0]              \n",
            "__________________________________________________________________________________________________\n",
            "conv2d_37 (Conv2D)              (None, 12, 12, 128)  114688      activation_36[0][0]              \n",
            "__________________________________________________________________________________________________\n",
            "batch_normalization_32 (BatchNo (None, 12, 12, 128)  384         conv2d_32[0][0]                  \n",
            "__________________________________________________________________________________________________\n",
            "batch_normalization_37 (BatchNo (None, 12, 12, 128)  384         conv2d_37[0][0]                  \n",
            "__________________________________________________________________________________________________\n",
            "activation_32 (Activation)      (None, 12, 12, 128)  0           batch_normalization_32[0][0]     \n",
            "__________________________________________________________________________________________________\n",
            "activation_37 (Activation)      (None, 12, 12, 128)  0           batch_normalization_37[0][0]     \n",
            "__________________________________________________________________________________________________\n",
            "average_pooling2d_3 (AveragePoo (None, 12, 12, 768)  0           mixed3[0][0]                     \n",
            "__________________________________________________________________________________________________\n",
            "conv2d_30 (Conv2D)              (None, 12, 12, 192)  147456      mixed3[0][0]                     \n",
            "__________________________________________________________________________________________________\n",
            "conv2d_33 (Conv2D)              (None, 12, 12, 192)  172032      activation_32[0][0]              \n",
            "__________________________________________________________________________________________________\n",
            "conv2d_38 (Conv2D)              (None, 12, 12, 192)  172032      activation_37[0][0]              \n",
            "__________________________________________________________________________________________________\n",
            "conv2d_39 (Conv2D)              (None, 12, 12, 192)  147456      average_pooling2d_3[0][0]        \n",
            "__________________________________________________________________________________________________\n",
            "batch_normalization_30 (BatchNo (None, 12, 12, 192)  576         conv2d_30[0][0]                  \n",
            "__________________________________________________________________________________________________\n",
            "batch_normalization_33 (BatchNo (None, 12, 12, 192)  576         conv2d_33[0][0]                  \n",
            "__________________________________________________________________________________________________\n",
            "batch_normalization_38 (BatchNo (None, 12, 12, 192)  576         conv2d_38[0][0]                  \n",
            "__________________________________________________________________________________________________\n",
            "batch_normalization_39 (BatchNo (None, 12, 12, 192)  576         conv2d_39[0][0]                  \n",
            "__________________________________________________________________________________________________\n",
            "activation_30 (Activation)      (None, 12, 12, 192)  0           batch_normalization_30[0][0]     \n",
            "__________________________________________________________________________________________________\n",
            "activation_33 (Activation)      (None, 12, 12, 192)  0           batch_normalization_33[0][0]     \n",
            "__________________________________________________________________________________________________\n",
            "activation_38 (Activation)      (None, 12, 12, 192)  0           batch_normalization_38[0][0]     \n",
            "__________________________________________________________________________________________________\n",
            "activation_39 (Activation)      (None, 12, 12, 192)  0           batch_normalization_39[0][0]     \n",
            "__________________________________________________________________________________________________\n",
            "mixed4 (Concatenate)            (None, 12, 12, 768)  0           activation_30[0][0]              \n",
            "                                                                 activation_33[0][0]              \n",
            "                                                                 activation_38[0][0]              \n",
            "                                                                 activation_39[0][0]              \n",
            "__________________________________________________________________________________________________\n",
            "conv2d_44 (Conv2D)              (None, 12, 12, 160)  122880      mixed4[0][0]                     \n",
            "__________________________________________________________________________________________________\n",
            "batch_normalization_44 (BatchNo (None, 12, 12, 160)  480         conv2d_44[0][0]                  \n",
            "__________________________________________________________________________________________________\n",
            "activation_44 (Activation)      (None, 12, 12, 160)  0           batch_normalization_44[0][0]     \n",
            "__________________________________________________________________________________________________\n",
            "conv2d_45 (Conv2D)              (None, 12, 12, 160)  179200      activation_44[0][0]              \n",
            "__________________________________________________________________________________________________\n",
            "batch_normalization_45 (BatchNo (None, 12, 12, 160)  480         conv2d_45[0][0]                  \n",
            "__________________________________________________________________________________________________\n",
            "activation_45 (Activation)      (None, 12, 12, 160)  0           batch_normalization_45[0][0]     \n",
            "__________________________________________________________________________________________________\n",
            "conv2d_41 (Conv2D)              (None, 12, 12, 160)  122880      mixed4[0][0]                     \n",
            "__________________________________________________________________________________________________\n",
            "conv2d_46 (Conv2D)              (None, 12, 12, 160)  179200      activation_45[0][0]              \n",
            "__________________________________________________________________________________________________\n",
            "batch_normalization_41 (BatchNo (None, 12, 12, 160)  480         conv2d_41[0][0]                  \n",
            "__________________________________________________________________________________________________\n",
            "batch_normalization_46 (BatchNo (None, 12, 12, 160)  480         conv2d_46[0][0]                  \n",
            "__________________________________________________________________________________________________\n",
            "activation_41 (Activation)      (None, 12, 12, 160)  0           batch_normalization_41[0][0]     \n",
            "__________________________________________________________________________________________________\n",
            "activation_46 (Activation)      (None, 12, 12, 160)  0           batch_normalization_46[0][0]     \n",
            "__________________________________________________________________________________________________\n",
            "conv2d_42 (Conv2D)              (None, 12, 12, 160)  179200      activation_41[0][0]              \n",
            "__________________________________________________________________________________________________\n",
            "conv2d_47 (Conv2D)              (None, 12, 12, 160)  179200      activation_46[0][0]              \n",
            "__________________________________________________________________________________________________\n",
            "batch_normalization_42 (BatchNo (None, 12, 12, 160)  480         conv2d_42[0][0]                  \n",
            "__________________________________________________________________________________________________\n",
            "batch_normalization_47 (BatchNo (None, 12, 12, 160)  480         conv2d_47[0][0]                  \n",
            "__________________________________________________________________________________________________\n",
            "activation_42 (Activation)      (None, 12, 12, 160)  0           batch_normalization_42[0][0]     \n",
            "__________________________________________________________________________________________________\n",
            "activation_47 (Activation)      (None, 12, 12, 160)  0           batch_normalization_47[0][0]     \n",
            "__________________________________________________________________________________________________\n",
            "average_pooling2d_4 (AveragePoo (None, 12, 12, 768)  0           mixed4[0][0]                     \n",
            "__________________________________________________________________________________________________\n",
            "conv2d_40 (Conv2D)              (None, 12, 12, 192)  147456      mixed4[0][0]                     \n",
            "__________________________________________________________________________________________________\n",
            "conv2d_43 (Conv2D)              (None, 12, 12, 192)  215040      activation_42[0][0]              \n",
            "__________________________________________________________________________________________________\n",
            "conv2d_48 (Conv2D)              (None, 12, 12, 192)  215040      activation_47[0][0]              \n",
            "__________________________________________________________________________________________________\n",
            "conv2d_49 (Conv2D)              (None, 12, 12, 192)  147456      average_pooling2d_4[0][0]        \n",
            "__________________________________________________________________________________________________\n",
            "batch_normalization_40 (BatchNo (None, 12, 12, 192)  576         conv2d_40[0][0]                  \n",
            "__________________________________________________________________________________________________\n",
            "batch_normalization_43 (BatchNo (None, 12, 12, 192)  576         conv2d_43[0][0]                  \n",
            "__________________________________________________________________________________________________\n",
            "batch_normalization_48 (BatchNo (None, 12, 12, 192)  576         conv2d_48[0][0]                  \n",
            "__________________________________________________________________________________________________\n",
            "batch_normalization_49 (BatchNo (None, 12, 12, 192)  576         conv2d_49[0][0]                  \n",
            "__________________________________________________________________________________________________\n",
            "activation_40 (Activation)      (None, 12, 12, 192)  0           batch_normalization_40[0][0]     \n",
            "__________________________________________________________________________________________________\n",
            "activation_43 (Activation)      (None, 12, 12, 192)  0           batch_normalization_43[0][0]     \n",
            "__________________________________________________________________________________________________\n",
            "activation_48 (Activation)      (None, 12, 12, 192)  0           batch_normalization_48[0][0]     \n",
            "__________________________________________________________________________________________________\n",
            "activation_49 (Activation)      (None, 12, 12, 192)  0           batch_normalization_49[0][0]     \n",
            "__________________________________________________________________________________________________\n",
            "mixed5 (Concatenate)            (None, 12, 12, 768)  0           activation_40[0][0]              \n",
            "                                                                 activation_43[0][0]              \n",
            "                                                                 activation_48[0][0]              \n",
            "                                                                 activation_49[0][0]              \n",
            "__________________________________________________________________________________________________\n",
            "conv2d_54 (Conv2D)              (None, 12, 12, 160)  122880      mixed5[0][0]                     \n",
            "__________________________________________________________________________________________________\n",
            "batch_normalization_54 (BatchNo (None, 12, 12, 160)  480         conv2d_54[0][0]                  \n",
            "__________________________________________________________________________________________________\n",
            "activation_54 (Activation)      (None, 12, 12, 160)  0           batch_normalization_54[0][0]     \n",
            "__________________________________________________________________________________________________\n",
            "conv2d_55 (Conv2D)              (None, 12, 12, 160)  179200      activation_54[0][0]              \n",
            "__________________________________________________________________________________________________\n",
            "batch_normalization_55 (BatchNo (None, 12, 12, 160)  480         conv2d_55[0][0]                  \n",
            "__________________________________________________________________________________________________\n",
            "activation_55 (Activation)      (None, 12, 12, 160)  0           batch_normalization_55[0][0]     \n",
            "__________________________________________________________________________________________________\n",
            "conv2d_51 (Conv2D)              (None, 12, 12, 160)  122880      mixed5[0][0]                     \n",
            "__________________________________________________________________________________________________\n",
            "conv2d_56 (Conv2D)              (None, 12, 12, 160)  179200      activation_55[0][0]              \n",
            "__________________________________________________________________________________________________\n",
            "batch_normalization_51 (BatchNo (None, 12, 12, 160)  480         conv2d_51[0][0]                  \n",
            "__________________________________________________________________________________________________\n",
            "batch_normalization_56 (BatchNo (None, 12, 12, 160)  480         conv2d_56[0][0]                  \n",
            "__________________________________________________________________________________________________\n",
            "activation_51 (Activation)      (None, 12, 12, 160)  0           batch_normalization_51[0][0]     \n",
            "__________________________________________________________________________________________________\n",
            "activation_56 (Activation)      (None, 12, 12, 160)  0           batch_normalization_56[0][0]     \n",
            "__________________________________________________________________________________________________\n",
            "conv2d_52 (Conv2D)              (None, 12, 12, 160)  179200      activation_51[0][0]              \n",
            "__________________________________________________________________________________________________\n",
            "conv2d_57 (Conv2D)              (None, 12, 12, 160)  179200      activation_56[0][0]              \n",
            "__________________________________________________________________________________________________\n",
            "batch_normalization_52 (BatchNo (None, 12, 12, 160)  480         conv2d_52[0][0]                  \n",
            "__________________________________________________________________________________________________\n",
            "batch_normalization_57 (BatchNo (None, 12, 12, 160)  480         conv2d_57[0][0]                  \n",
            "__________________________________________________________________________________________________\n",
            "activation_52 (Activation)      (None, 12, 12, 160)  0           batch_normalization_52[0][0]     \n",
            "__________________________________________________________________________________________________\n",
            "activation_57 (Activation)      (None, 12, 12, 160)  0           batch_normalization_57[0][0]     \n",
            "__________________________________________________________________________________________________\n",
            "average_pooling2d_5 (AveragePoo (None, 12, 12, 768)  0           mixed5[0][0]                     \n",
            "__________________________________________________________________________________________________\n",
            "conv2d_50 (Conv2D)              (None, 12, 12, 192)  147456      mixed5[0][0]                     \n",
            "__________________________________________________________________________________________________\n",
            "conv2d_53 (Conv2D)              (None, 12, 12, 192)  215040      activation_52[0][0]              \n",
            "__________________________________________________________________________________________________\n",
            "conv2d_58 (Conv2D)              (None, 12, 12, 192)  215040      activation_57[0][0]              \n",
            "__________________________________________________________________________________________________\n",
            "conv2d_59 (Conv2D)              (None, 12, 12, 192)  147456      average_pooling2d_5[0][0]        \n",
            "__________________________________________________________________________________________________\n",
            "batch_normalization_50 (BatchNo (None, 12, 12, 192)  576         conv2d_50[0][0]                  \n",
            "__________________________________________________________________________________________________\n",
            "batch_normalization_53 (BatchNo (None, 12, 12, 192)  576         conv2d_53[0][0]                  \n",
            "__________________________________________________________________________________________________\n",
            "batch_normalization_58 (BatchNo (None, 12, 12, 192)  576         conv2d_58[0][0]                  \n",
            "__________________________________________________________________________________________________\n",
            "batch_normalization_59 (BatchNo (None, 12, 12, 192)  576         conv2d_59[0][0]                  \n",
            "__________________________________________________________________________________________________\n",
            "activation_50 (Activation)      (None, 12, 12, 192)  0           batch_normalization_50[0][0]     \n",
            "__________________________________________________________________________________________________\n",
            "activation_53 (Activation)      (None, 12, 12, 192)  0           batch_normalization_53[0][0]     \n",
            "__________________________________________________________________________________________________\n",
            "activation_58 (Activation)      (None, 12, 12, 192)  0           batch_normalization_58[0][0]     \n",
            "__________________________________________________________________________________________________\n",
            "activation_59 (Activation)      (None, 12, 12, 192)  0           batch_normalization_59[0][0]     \n",
            "__________________________________________________________________________________________________\n",
            "mixed6 (Concatenate)            (None, 12, 12, 768)  0           activation_50[0][0]              \n",
            "                                                                 activation_53[0][0]              \n",
            "                                                                 activation_58[0][0]              \n",
            "                                                                 activation_59[0][0]              \n",
            "__________________________________________________________________________________________________\n",
            "conv2d_64 (Conv2D)              (None, 12, 12, 192)  147456      mixed6[0][0]                     \n",
            "__________________________________________________________________________________________________\n",
            "batch_normalization_64 (BatchNo (None, 12, 12, 192)  576         conv2d_64[0][0]                  \n",
            "__________________________________________________________________________________________________\n",
            "activation_64 (Activation)      (None, 12, 12, 192)  0           batch_normalization_64[0][0]     \n",
            "__________________________________________________________________________________________________\n",
            "conv2d_65 (Conv2D)              (None, 12, 12, 192)  258048      activation_64[0][0]              \n",
            "__________________________________________________________________________________________________\n",
            "batch_normalization_65 (BatchNo (None, 12, 12, 192)  576         conv2d_65[0][0]                  \n",
            "__________________________________________________________________________________________________\n",
            "activation_65 (Activation)      (None, 12, 12, 192)  0           batch_normalization_65[0][0]     \n",
            "__________________________________________________________________________________________________\n",
            "conv2d_61 (Conv2D)              (None, 12, 12, 192)  147456      mixed6[0][0]                     \n",
            "__________________________________________________________________________________________________\n",
            "conv2d_66 (Conv2D)              (None, 12, 12, 192)  258048      activation_65[0][0]              \n",
            "__________________________________________________________________________________________________\n",
            "batch_normalization_61 (BatchNo (None, 12, 12, 192)  576         conv2d_61[0][0]                  \n",
            "__________________________________________________________________________________________________\n",
            "batch_normalization_66 (BatchNo (None, 12, 12, 192)  576         conv2d_66[0][0]                  \n",
            "__________________________________________________________________________________________________\n",
            "activation_61 (Activation)      (None, 12, 12, 192)  0           batch_normalization_61[0][0]     \n",
            "__________________________________________________________________________________________________\n",
            "activation_66 (Activation)      (None, 12, 12, 192)  0           batch_normalization_66[0][0]     \n",
            "__________________________________________________________________________________________________\n",
            "conv2d_62 (Conv2D)              (None, 12, 12, 192)  258048      activation_61[0][0]              \n",
            "__________________________________________________________________________________________________\n",
            "conv2d_67 (Conv2D)              (None, 12, 12, 192)  258048      activation_66[0][0]              \n",
            "__________________________________________________________________________________________________\n",
            "batch_normalization_62 (BatchNo (None, 12, 12, 192)  576         conv2d_62[0][0]                  \n",
            "__________________________________________________________________________________________________\n",
            "batch_normalization_67 (BatchNo (None, 12, 12, 192)  576         conv2d_67[0][0]                  \n",
            "__________________________________________________________________________________________________\n",
            "activation_62 (Activation)      (None, 12, 12, 192)  0           batch_normalization_62[0][0]     \n",
            "__________________________________________________________________________________________________\n",
            "activation_67 (Activation)      (None, 12, 12, 192)  0           batch_normalization_67[0][0]     \n",
            "__________________________________________________________________________________________________\n",
            "average_pooling2d_6 (AveragePoo (None, 12, 12, 768)  0           mixed6[0][0]                     \n",
            "__________________________________________________________________________________________________\n",
            "conv2d_60 (Conv2D)              (None, 12, 12, 192)  147456      mixed6[0][0]                     \n",
            "__________________________________________________________________________________________________\n",
            "conv2d_63 (Conv2D)              (None, 12, 12, 192)  258048      activation_62[0][0]              \n",
            "__________________________________________________________________________________________________\n",
            "conv2d_68 (Conv2D)              (None, 12, 12, 192)  258048      activation_67[0][0]              \n",
            "__________________________________________________________________________________________________\n",
            "conv2d_69 (Conv2D)              (None, 12, 12, 192)  147456      average_pooling2d_6[0][0]        \n",
            "__________________________________________________________________________________________________\n",
            "batch_normalization_60 (BatchNo (None, 12, 12, 192)  576         conv2d_60[0][0]                  \n",
            "__________________________________________________________________________________________________\n",
            "batch_normalization_63 (BatchNo (None, 12, 12, 192)  576         conv2d_63[0][0]                  \n",
            "__________________________________________________________________________________________________\n",
            "batch_normalization_68 (BatchNo (None, 12, 12, 192)  576         conv2d_68[0][0]                  \n",
            "__________________________________________________________________________________________________\n",
            "batch_normalization_69 (BatchNo (None, 12, 12, 192)  576         conv2d_69[0][0]                  \n",
            "__________________________________________________________________________________________________\n",
            "activation_60 (Activation)      (None, 12, 12, 192)  0           batch_normalization_60[0][0]     \n",
            "__________________________________________________________________________________________________\n",
            "activation_63 (Activation)      (None, 12, 12, 192)  0           batch_normalization_63[0][0]     \n",
            "__________________________________________________________________________________________________\n",
            "activation_68 (Activation)      (None, 12, 12, 192)  0           batch_normalization_68[0][0]     \n",
            "__________________________________________________________________________________________________\n",
            "activation_69 (Activation)      (None, 12, 12, 192)  0           batch_normalization_69[0][0]     \n",
            "__________________________________________________________________________________________________\n",
            "mixed7 (Concatenate)            (None, 12, 12, 768)  0           activation_60[0][0]              \n",
            "                                                                 activation_63[0][0]              \n",
            "                                                                 activation_68[0][0]              \n",
            "                                                                 activation_69[0][0]              \n",
            "__________________________________________________________________________________________________\n",
            "conv2d_72 (Conv2D)              (None, 12, 12, 192)  147456      mixed7[0][0]                     \n",
            "__________________________________________________________________________________________________\n",
            "batch_normalization_72 (BatchNo (None, 12, 12, 192)  576         conv2d_72[0][0]                  \n",
            "__________________________________________________________________________________________________\n",
            "activation_72 (Activation)      (None, 12, 12, 192)  0           batch_normalization_72[0][0]     \n",
            "__________________________________________________________________________________________________\n",
            "conv2d_73 (Conv2D)              (None, 12, 12, 192)  258048      activation_72[0][0]              \n",
            "__________________________________________________________________________________________________\n",
            "batch_normalization_73 (BatchNo (None, 12, 12, 192)  576         conv2d_73[0][0]                  \n",
            "__________________________________________________________________________________________________\n",
            "activation_73 (Activation)      (None, 12, 12, 192)  0           batch_normalization_73[0][0]     \n",
            "__________________________________________________________________________________________________\n",
            "conv2d_70 (Conv2D)              (None, 12, 12, 192)  147456      mixed7[0][0]                     \n",
            "__________________________________________________________________________________________________\n",
            "conv2d_74 (Conv2D)              (None, 12, 12, 192)  258048      activation_73[0][0]              \n",
            "__________________________________________________________________________________________________\n",
            "batch_normalization_70 (BatchNo (None, 12, 12, 192)  576         conv2d_70[0][0]                  \n",
            "__________________________________________________________________________________________________\n",
            "batch_normalization_74 (BatchNo (None, 12, 12, 192)  576         conv2d_74[0][0]                  \n",
            "__________________________________________________________________________________________________\n",
            "activation_70 (Activation)      (None, 12, 12, 192)  0           batch_normalization_70[0][0]     \n",
            "__________________________________________________________________________________________________\n",
            "activation_74 (Activation)      (None, 12, 12, 192)  0           batch_normalization_74[0][0]     \n",
            "__________________________________________________________________________________________________\n",
            "conv2d_71 (Conv2D)              (None, 5, 5, 320)    552960      activation_70[0][0]              \n",
            "__________________________________________________________________________________________________\n",
            "conv2d_75 (Conv2D)              (None, 5, 5, 192)    331776      activation_74[0][0]              \n",
            "__________________________________________________________________________________________________\n",
            "batch_normalization_71 (BatchNo (None, 5, 5, 320)    960         conv2d_71[0][0]                  \n",
            "__________________________________________________________________________________________________\n",
            "batch_normalization_75 (BatchNo (None, 5, 5, 192)    576         conv2d_75[0][0]                  \n",
            "__________________________________________________________________________________________________\n",
            "activation_71 (Activation)      (None, 5, 5, 320)    0           batch_normalization_71[0][0]     \n",
            "__________________________________________________________________________________________________\n",
            "activation_75 (Activation)      (None, 5, 5, 192)    0           batch_normalization_75[0][0]     \n",
            "__________________________________________________________________________________________________\n",
            "max_pooling2d_3 (MaxPooling2D)  (None, 5, 5, 768)    0           mixed7[0][0]                     \n",
            "__________________________________________________________________________________________________\n",
            "mixed8 (Concatenate)            (None, 5, 5, 1280)   0           activation_71[0][0]              \n",
            "                                                                 activation_75[0][0]              \n",
            "                                                                 max_pooling2d_3[0][0]            \n",
            "__________________________________________________________________________________________________\n",
            "conv2d_80 (Conv2D)              (None, 5, 5, 448)    573440      mixed8[0][0]                     \n",
            "__________________________________________________________________________________________________\n",
            "batch_normalization_80 (BatchNo (None, 5, 5, 448)    1344        conv2d_80[0][0]                  \n",
            "__________________________________________________________________________________________________\n",
            "activation_80 (Activation)      (None, 5, 5, 448)    0           batch_normalization_80[0][0]     \n",
            "__________________________________________________________________________________________________\n",
            "conv2d_77 (Conv2D)              (None, 5, 5, 384)    491520      mixed8[0][0]                     \n",
            "__________________________________________________________________________________________________\n",
            "conv2d_81 (Conv2D)              (None, 5, 5, 384)    1548288     activation_80[0][0]              \n",
            "__________________________________________________________________________________________________\n",
            "batch_normalization_77 (BatchNo (None, 5, 5, 384)    1152        conv2d_77[0][0]                  \n",
            "__________________________________________________________________________________________________\n",
            "batch_normalization_81 (BatchNo (None, 5, 5, 384)    1152        conv2d_81[0][0]                  \n",
            "__________________________________________________________________________________________________\n",
            "activation_77 (Activation)      (None, 5, 5, 384)    0           batch_normalization_77[0][0]     \n",
            "__________________________________________________________________________________________________\n",
            "activation_81 (Activation)      (None, 5, 5, 384)    0           batch_normalization_81[0][0]     \n",
            "__________________________________________________________________________________________________\n",
            "conv2d_78 (Conv2D)              (None, 5, 5, 384)    442368      activation_77[0][0]              \n",
            "__________________________________________________________________________________________________\n",
            "conv2d_79 (Conv2D)              (None, 5, 5, 384)    442368      activation_77[0][0]              \n",
            "__________________________________________________________________________________________________\n",
            "conv2d_82 (Conv2D)              (None, 5, 5, 384)    442368      activation_81[0][0]              \n",
            "__________________________________________________________________________________________________\n",
            "conv2d_83 (Conv2D)              (None, 5, 5, 384)    442368      activation_81[0][0]              \n",
            "__________________________________________________________________________________________________\n",
            "average_pooling2d_7 (AveragePoo (None, 5, 5, 1280)   0           mixed8[0][0]                     \n",
            "__________________________________________________________________________________________________\n",
            "conv2d_76 (Conv2D)              (None, 5, 5, 320)    409600      mixed8[0][0]                     \n",
            "__________________________________________________________________________________________________\n",
            "batch_normalization_78 (BatchNo (None, 5, 5, 384)    1152        conv2d_78[0][0]                  \n",
            "__________________________________________________________________________________________________\n",
            "batch_normalization_79 (BatchNo (None, 5, 5, 384)    1152        conv2d_79[0][0]                  \n",
            "__________________________________________________________________________________________________\n",
            "batch_normalization_82 (BatchNo (None, 5, 5, 384)    1152        conv2d_82[0][0]                  \n",
            "__________________________________________________________________________________________________\n",
            "batch_normalization_83 (BatchNo (None, 5, 5, 384)    1152        conv2d_83[0][0]                  \n",
            "__________________________________________________________________________________________________\n",
            "conv2d_84 (Conv2D)              (None, 5, 5, 192)    245760      average_pooling2d_7[0][0]        \n",
            "__________________________________________________________________________________________________\n",
            "batch_normalization_76 (BatchNo (None, 5, 5, 320)    960         conv2d_76[0][0]                  \n",
            "__________________________________________________________________________________________________\n",
            "activation_78 (Activation)      (None, 5, 5, 384)    0           batch_normalization_78[0][0]     \n",
            "__________________________________________________________________________________________________\n",
            "activation_79 (Activation)      (None, 5, 5, 384)    0           batch_normalization_79[0][0]     \n",
            "__________________________________________________________________________________________________\n",
            "activation_82 (Activation)      (None, 5, 5, 384)    0           batch_normalization_82[0][0]     \n",
            "__________________________________________________________________________________________________\n",
            "activation_83 (Activation)      (None, 5, 5, 384)    0           batch_normalization_83[0][0]     \n",
            "__________________________________________________________________________________________________\n",
            "batch_normalization_84 (BatchNo (None, 5, 5, 192)    576         conv2d_84[0][0]                  \n",
            "__________________________________________________________________________________________________\n",
            "activation_76 (Activation)      (None, 5, 5, 320)    0           batch_normalization_76[0][0]     \n",
            "__________________________________________________________________________________________________\n",
            "mixed9_0 (Concatenate)          (None, 5, 5, 768)    0           activation_78[0][0]              \n",
            "                                                                 activation_79[0][0]              \n",
            "__________________________________________________________________________________________________\n",
            "concatenate (Concatenate)       (None, 5, 5, 768)    0           activation_82[0][0]              \n",
            "                                                                 activation_83[0][0]              \n",
            "__________________________________________________________________________________________________\n",
            "activation_84 (Activation)      (None, 5, 5, 192)    0           batch_normalization_84[0][0]     \n",
            "__________________________________________________________________________________________________\n",
            "mixed9 (Concatenate)            (None, 5, 5, 2048)   0           activation_76[0][0]              \n",
            "                                                                 mixed9_0[0][0]                   \n",
            "                                                                 concatenate[0][0]                \n",
            "                                                                 activation_84[0][0]              \n",
            "__________________________________________________________________________________________________\n",
            "conv2d_89 (Conv2D)              (None, 5, 5, 448)    917504      mixed9[0][0]                     \n",
            "__________________________________________________________________________________________________\n",
            "batch_normalization_89 (BatchNo (None, 5, 5, 448)    1344        conv2d_89[0][0]                  \n",
            "__________________________________________________________________________________________________\n",
            "activation_89 (Activation)      (None, 5, 5, 448)    0           batch_normalization_89[0][0]     \n",
            "__________________________________________________________________________________________________\n",
            "conv2d_86 (Conv2D)              (None, 5, 5, 384)    786432      mixed9[0][0]                     \n",
            "__________________________________________________________________________________________________\n",
            "conv2d_90 (Conv2D)              (None, 5, 5, 384)    1548288     activation_89[0][0]              \n",
            "__________________________________________________________________________________________________\n",
            "batch_normalization_86 (BatchNo (None, 5, 5, 384)    1152        conv2d_86[0][0]                  \n",
            "__________________________________________________________________________________________________\n",
            "batch_normalization_90 (BatchNo (None, 5, 5, 384)    1152        conv2d_90[0][0]                  \n",
            "__________________________________________________________________________________________________\n",
            "activation_86 (Activation)      (None, 5, 5, 384)    0           batch_normalization_86[0][0]     \n",
            "__________________________________________________________________________________________________\n",
            "activation_90 (Activation)      (None, 5, 5, 384)    0           batch_normalization_90[0][0]     \n",
            "__________________________________________________________________________________________________\n",
            "conv2d_87 (Conv2D)              (None, 5, 5, 384)    442368      activation_86[0][0]              \n",
            "__________________________________________________________________________________________________\n",
            "conv2d_88 (Conv2D)              (None, 5, 5, 384)    442368      activation_86[0][0]              \n",
            "__________________________________________________________________________________________________\n",
            "conv2d_91 (Conv2D)              (None, 5, 5, 384)    442368      activation_90[0][0]              \n",
            "__________________________________________________________________________________________________\n",
            "conv2d_92 (Conv2D)              (None, 5, 5, 384)    442368      activation_90[0][0]              \n",
            "__________________________________________________________________________________________________\n",
            "average_pooling2d_8 (AveragePoo (None, 5, 5, 2048)   0           mixed9[0][0]                     \n",
            "__________________________________________________________________________________________________\n",
            "conv2d_85 (Conv2D)              (None, 5, 5, 320)    655360      mixed9[0][0]                     \n",
            "__________________________________________________________________________________________________\n",
            "batch_normalization_87 (BatchNo (None, 5, 5, 384)    1152        conv2d_87[0][0]                  \n",
            "__________________________________________________________________________________________________\n",
            "batch_normalization_88 (BatchNo (None, 5, 5, 384)    1152        conv2d_88[0][0]                  \n",
            "__________________________________________________________________________________________________\n",
            "batch_normalization_91 (BatchNo (None, 5, 5, 384)    1152        conv2d_91[0][0]                  \n",
            "__________________________________________________________________________________________________\n",
            "batch_normalization_92 (BatchNo (None, 5, 5, 384)    1152        conv2d_92[0][0]                  \n",
            "__________________________________________________________________________________________________\n",
            "conv2d_93 (Conv2D)              (None, 5, 5, 192)    393216      average_pooling2d_8[0][0]        \n",
            "__________________________________________________________________________________________________\n",
            "batch_normalization_85 (BatchNo (None, 5, 5, 320)    960         conv2d_85[0][0]                  \n",
            "__________________________________________________________________________________________________\n",
            "activation_87 (Activation)      (None, 5, 5, 384)    0           batch_normalization_87[0][0]     \n",
            "__________________________________________________________________________________________________\n",
            "activation_88 (Activation)      (None, 5, 5, 384)    0           batch_normalization_88[0][0]     \n",
            "__________________________________________________________________________________________________\n",
            "activation_91 (Activation)      (None, 5, 5, 384)    0           batch_normalization_91[0][0]     \n",
            "__________________________________________________________________________________________________\n",
            "activation_92 (Activation)      (None, 5, 5, 384)    0           batch_normalization_92[0][0]     \n",
            "__________________________________________________________________________________________________\n",
            "batch_normalization_93 (BatchNo (None, 5, 5, 192)    576         conv2d_93[0][0]                  \n",
            "__________________________________________________________________________________________________\n",
            "activation_85 (Activation)      (None, 5, 5, 320)    0           batch_normalization_85[0][0]     \n",
            "__________________________________________________________________________________________________\n",
            "mixed9_1 (Concatenate)          (None, 5, 5, 768)    0           activation_87[0][0]              \n",
            "                                                                 activation_88[0][0]              \n",
            "__________________________________________________________________________________________________\n",
            "concatenate_1 (Concatenate)     (None, 5, 5, 768)    0           activation_91[0][0]              \n",
            "                                                                 activation_92[0][0]              \n",
            "__________________________________________________________________________________________________\n",
            "activation_93 (Activation)      (None, 5, 5, 192)    0           batch_normalization_93[0][0]     \n",
            "__________________________________________________________________________________________________\n",
            "mixed10 (Concatenate)           (None, 5, 5, 2048)   0           activation_85[0][0]              \n",
            "                                                                 mixed9_1[0][0]                   \n",
            "                                                                 concatenate_1[0][0]              \n",
            "                                                                 activation_93[0][0]              \n",
            "__________________________________________________________________________________________________\n",
            "flatten (Flatten)               (None, 51200)        0           mixed10[0][0]                    \n",
            "__________________________________________________________________________________________________\n",
            "dense (Dense)                   (None, 4)            204804      flatten[0][0]                    \n",
            "==================================================================================================\n",
            "Total params: 22,007,588\n",
            "Trainable params: 204,804\n",
            "Non-trainable params: 21,802,784\n",
            "__________________________________________________________________________________________________\n"
          ],
          "name": "stdout"
        }
      ]
    },
    {
      "cell_type": "code",
      "metadata": {
        "id": "-Zof-WEOV5_R"
      },
      "source": [
        "#model cost and optimization method\n",
        "model.compile(\n",
        "  loss='categorical_crossentropy',\n",
        "  optimizer='adam',\n",
        "  metrics=['accuracy']\n",
        ")"
      ],
      "execution_count": 23,
      "outputs": []
    },
    {
      "cell_type": "code",
      "metadata": {
        "colab": {
          "base_uri": "https://localhost:8080/"
        },
        "id": "Vp__JSm8V_TY",
        "outputId": "e423e2e1-4271-405b-9b21-588429f96fe6"
      },
      "source": [
        "\n",
        "# fit the model\n",
        "\n",
        "r = model.fit_generator(\n",
        "  train_data_keras,\n",
        "  \n",
        "  epochs=10,\n",
        "  steps_per_epoch=len(train_data_keras)\n",
        "  \n",
        ")"
      ],
      "execution_count": null,
      "outputs": [
        {
          "output_type": "stream",
          "text": [
            "/usr/local/lib/python3.7/dist-packages/tensorflow/python/keras/engine/training.py:1844: UserWarning: `Model.fit_generator` is deprecated and will be removed in a future version. Please use `Model.fit`, which supports generators.\n",
            "  warnings.warn('`Model.fit_generator` is deprecated and '\n"
          ],
          "name": "stderr"
        },
        {
          "output_type": "stream",
          "text": [
            "Epoch 1/10\n"
          ],
          "name": "stdout"
        }
      ]
    },
    {
      "cell_type": "code",
      "metadata": {
        "id": "e_-Kfvy4hiiZ"
      },
      "source": [
        "#session crashed for unknown reason \n",
        "#Trying the new model"
      ],
      "execution_count": null,
      "outputs": []
    },
    {
      "cell_type": "code",
      "metadata": {
        "colab": {
          "base_uri": "https://localhost:8080/"
        },
        "id": "zoxZw0uEaYBi",
        "outputId": "f1bb4fd3-887c-4a25-a2ea-08e47a1a7eae"
      },
      "source": [
        "IMAGE_SIZE=64\n",
        "from keras.models import Sequential\n",
        "from keras.layers import Dense, Dropout, Flatten, Conv2D, MaxPool2D, BatchNormalization\n",
        "from sklearn.model_selection import train_test_split\n",
        "from scipy import stats\n",
        "newmodel = Sequential()\n",
        "newmodel.add(Conv2D(256, (3, 3), activation=\"relu\", input_shape=(IMAGE_SIZE, IMAGE_SIZE, 3)))\n",
        "#model.add(BatchNormalization())\n",
        "newmodel.add(MaxPool2D(pool_size=(2, 2)))  \n",
        "newmodel.add(Dropout(0.3))\n",
        "\n",
        "newmodel.add(Conv2D(128, (3, 3),activation='relu'))\n",
        "#model.add(BatchNormalization())\n",
        "newmodel.add(MaxPool2D(pool_size=(2, 2)))  \n",
        "newmodel.add(Dropout(0.3))\n",
        "\n",
        "newmodel.add(Conv2D(64, (3, 3),activation='relu'))\n",
        "#model.add(BatchNormalization())\n",
        "newmodel.add(MaxPool2D(pool_size=(2, 2)))  \n",
        "newmodel.add(Dropout(0.3))\n",
        "newmodel.add(Flatten())\n",
        "\n",
        "newmodel.add(Dense(32))\n",
        "newmodel.add(Dense(7, activation='softmax'))\n",
        "newmodel.summary()\n",
        "\n",
        "newmodel.compile(loss='categorical_crossentropy', optimizer='Adam', metrics=['acc'])\n"
      ],
      "execution_count": 13,
      "outputs": [
        {
          "output_type": "stream",
          "text": [
            "Model: \"sequential_1\"\n",
            "_________________________________________________________________\n",
            "Layer (type)                 Output Shape              Param #   \n",
            "=================================================================\n",
            "conv2d_3 (Conv2D)            (None, 62, 62, 1)         28        \n",
            "_________________________________________________________________\n",
            "max_pooling2d_3 (MaxPooling2 (None, 31, 31, 1)         0         \n",
            "_________________________________________________________________\n",
            "dropout_3 (Dropout)          (None, 31, 31, 1)         0         \n",
            "_________________________________________________________________\n",
            "conv2d_4 (Conv2D)            (None, 29, 29, 128)       1280      \n",
            "_________________________________________________________________\n",
            "max_pooling2d_4 (MaxPooling2 (None, 14, 14, 128)       0         \n",
            "_________________________________________________________________\n",
            "dropout_4 (Dropout)          (None, 14, 14, 128)       0         \n",
            "_________________________________________________________________\n",
            "conv2d_5 (Conv2D)            (None, 12, 12, 64)        73792     \n",
            "_________________________________________________________________\n",
            "max_pooling2d_5 (MaxPooling2 (None, 6, 6, 64)          0         \n",
            "_________________________________________________________________\n",
            "dropout_5 (Dropout)          (None, 6, 6, 64)          0         \n",
            "_________________________________________________________________\n",
            "flatten_1 (Flatten)          (None, 2304)              0         \n",
            "_________________________________________________________________\n",
            "dense_2 (Dense)              (None, 32)                73760     \n",
            "_________________________________________________________________\n",
            "dense_3 (Dense)              (None, 7)                 231       \n",
            "=================================================================\n",
            "Total params: 149,091\n",
            "Trainable params: 149,091\n",
            "Non-trainable params: 0\n",
            "_________________________________________________________________\n"
          ],
          "name": "stdout"
        }
      ]
    },
    {
      "cell_type": "code",
      "metadata": {
        "colab": {
          "base_uri": "https://localhost:8080/",
          "height": 391
        },
        "id": "NyWaty7zgye0",
        "outputId": "9879fc86-3740-44b1-b135-9c4e5c97c15e"
      },
      "source": [
        "from keras.utils.np_utils import to_categorical\n",
        "y=skin_df[\"Type\"]\n",
        "Y_cat = to_categorical(y, num_classes=4)"
      ],
      "execution_count": 21,
      "outputs": [
        {
          "output_type": "error",
          "ename": "ValueError",
          "evalue": "ignored",
          "traceback": [
            "\u001b[0;31m---------------------------------------------------------------------------\u001b[0m",
            "\u001b[0;31mValueError\u001b[0m                                Traceback (most recent call last)",
            "\u001b[0;32m<ipython-input-21-4ec93e25ed9c>\u001b[0m in \u001b[0;36m<module>\u001b[0;34m()\u001b[0m\n\u001b[1;32m      1\u001b[0m \u001b[0;32mfrom\u001b[0m \u001b[0mkeras\u001b[0m\u001b[0;34m.\u001b[0m\u001b[0mutils\u001b[0m\u001b[0;34m.\u001b[0m\u001b[0mnp_utils\u001b[0m \u001b[0;32mimport\u001b[0m \u001b[0mto_categorical\u001b[0m\u001b[0;34m\u001b[0m\u001b[0;34m\u001b[0m\u001b[0m\n\u001b[1;32m      2\u001b[0m \u001b[0my\u001b[0m\u001b[0;34m=\u001b[0m\u001b[0mskin_df\u001b[0m\u001b[0;34m[\u001b[0m\u001b[0;34m\"Type\"\u001b[0m\u001b[0;34m]\u001b[0m\u001b[0;34m\u001b[0m\u001b[0;34m\u001b[0m\u001b[0m\n\u001b[0;32m----> 3\u001b[0;31m \u001b[0mY_cat\u001b[0m \u001b[0;34m=\u001b[0m \u001b[0mto_categorical\u001b[0m\u001b[0;34m(\u001b[0m\u001b[0my\u001b[0m\u001b[0;34m,\u001b[0m \u001b[0mnum_classes\u001b[0m\u001b[0;34m=\u001b[0m\u001b[0;36m4\u001b[0m\u001b[0;34m)\u001b[0m\u001b[0;34m\u001b[0m\u001b[0;34m\u001b[0m\u001b[0m\n\u001b[0m",
            "\u001b[0;32m/usr/local/lib/python3.7/dist-packages/tensorflow/python/keras/utils/np_utils.py\u001b[0m in \u001b[0;36mto_categorical\u001b[0;34m(y, num_classes, dtype)\u001b[0m\n\u001b[1;32m     67\u001b[0m \u001b[0;34m\u001b[0m\u001b[0m\n\u001b[1;32m     68\u001b[0m   \"\"\"\n\u001b[0;32m---> 69\u001b[0;31m   \u001b[0my\u001b[0m \u001b[0;34m=\u001b[0m \u001b[0mnp\u001b[0m\u001b[0;34m.\u001b[0m\u001b[0marray\u001b[0m\u001b[0;34m(\u001b[0m\u001b[0my\u001b[0m\u001b[0;34m,\u001b[0m \u001b[0mdtype\u001b[0m\u001b[0;34m=\u001b[0m\u001b[0;34m'int'\u001b[0m\u001b[0;34m)\u001b[0m\u001b[0;34m\u001b[0m\u001b[0;34m\u001b[0m\u001b[0m\n\u001b[0m\u001b[1;32m     70\u001b[0m   \u001b[0minput_shape\u001b[0m \u001b[0;34m=\u001b[0m \u001b[0my\u001b[0m\u001b[0;34m.\u001b[0m\u001b[0mshape\u001b[0m\u001b[0;34m\u001b[0m\u001b[0;34m\u001b[0m\u001b[0m\n\u001b[1;32m     71\u001b[0m   \u001b[0;32mif\u001b[0m \u001b[0minput_shape\u001b[0m \u001b[0;32mand\u001b[0m \u001b[0minput_shape\u001b[0m\u001b[0;34m[\u001b[0m\u001b[0;34m-\u001b[0m\u001b[0;36m1\u001b[0m\u001b[0;34m]\u001b[0m \u001b[0;34m==\u001b[0m \u001b[0;36m1\u001b[0m \u001b[0;32mand\u001b[0m \u001b[0mlen\u001b[0m\u001b[0;34m(\u001b[0m\u001b[0minput_shape\u001b[0m\u001b[0;34m)\u001b[0m \u001b[0;34m>\u001b[0m \u001b[0;36m1\u001b[0m\u001b[0;34m:\u001b[0m\u001b[0;34m\u001b[0m\u001b[0;34m\u001b[0m\u001b[0m\n",
            "\u001b[0;32m/usr/local/lib/python3.7/dist-packages/pandas/core/series.py\u001b[0m in \u001b[0;36m__array__\u001b[0;34m(self, dtype)\u001b[0m\n\u001b[1;32m    795\u001b[0m               dtype='datetime64[ns]')\n\u001b[1;32m    796\u001b[0m         \"\"\"\n\u001b[0;32m--> 797\u001b[0;31m         \u001b[0;32mreturn\u001b[0m \u001b[0mnp\u001b[0m\u001b[0;34m.\u001b[0m\u001b[0masarray\u001b[0m\u001b[0;34m(\u001b[0m\u001b[0mself\u001b[0m\u001b[0;34m.\u001b[0m\u001b[0marray\u001b[0m\u001b[0;34m,\u001b[0m \u001b[0mdtype\u001b[0m\u001b[0;34m)\u001b[0m\u001b[0;34m\u001b[0m\u001b[0;34m\u001b[0m\u001b[0m\n\u001b[0m\u001b[1;32m    798\u001b[0m \u001b[0;34m\u001b[0m\u001b[0m\n\u001b[1;32m    799\u001b[0m     \u001b[0;31m# ----------------------------------------------------------------------\u001b[0m\u001b[0;34m\u001b[0m\u001b[0;34m\u001b[0m\u001b[0;34m\u001b[0m\u001b[0m\n",
            "\u001b[0;32m/usr/local/lib/python3.7/dist-packages/numpy/core/_asarray.py\u001b[0m in \u001b[0;36masarray\u001b[0;34m(a, dtype, order)\u001b[0m\n\u001b[1;32m     81\u001b[0m \u001b[0;34m\u001b[0m\u001b[0m\n\u001b[1;32m     82\u001b[0m     \"\"\"\n\u001b[0;32m---> 83\u001b[0;31m     \u001b[0;32mreturn\u001b[0m \u001b[0marray\u001b[0m\u001b[0;34m(\u001b[0m\u001b[0ma\u001b[0m\u001b[0;34m,\u001b[0m \u001b[0mdtype\u001b[0m\u001b[0;34m,\u001b[0m \u001b[0mcopy\u001b[0m\u001b[0;34m=\u001b[0m\u001b[0;32mFalse\u001b[0m\u001b[0;34m,\u001b[0m \u001b[0morder\u001b[0m\u001b[0;34m=\u001b[0m\u001b[0morder\u001b[0m\u001b[0;34m)\u001b[0m\u001b[0;34m\u001b[0m\u001b[0;34m\u001b[0m\u001b[0m\n\u001b[0m\u001b[1;32m     84\u001b[0m \u001b[0;34m\u001b[0m\u001b[0m\n\u001b[1;32m     85\u001b[0m \u001b[0;34m\u001b[0m\u001b[0m\n",
            "\u001b[0;32m/usr/local/lib/python3.7/dist-packages/pandas/core/arrays/numpy_.py\u001b[0m in \u001b[0;36m__array__\u001b[0;34m(self, dtype)\u001b[0m\n\u001b[1;32m    209\u001b[0m \u001b[0;34m\u001b[0m\u001b[0m\n\u001b[1;32m    210\u001b[0m     \u001b[0;32mdef\u001b[0m \u001b[0m__array__\u001b[0m\u001b[0;34m(\u001b[0m\u001b[0mself\u001b[0m\u001b[0;34m,\u001b[0m \u001b[0mdtype\u001b[0m\u001b[0;34m=\u001b[0m\u001b[0;32mNone\u001b[0m\u001b[0;34m)\u001b[0m \u001b[0;34m->\u001b[0m \u001b[0mnp\u001b[0m\u001b[0;34m.\u001b[0m\u001b[0mndarray\u001b[0m\u001b[0;34m:\u001b[0m\u001b[0;34m\u001b[0m\u001b[0;34m\u001b[0m\u001b[0m\n\u001b[0;32m--> 211\u001b[0;31m         \u001b[0;32mreturn\u001b[0m \u001b[0mnp\u001b[0m\u001b[0;34m.\u001b[0m\u001b[0masarray\u001b[0m\u001b[0;34m(\u001b[0m\u001b[0mself\u001b[0m\u001b[0;34m.\u001b[0m\u001b[0m_ndarray\u001b[0m\u001b[0;34m,\u001b[0m \u001b[0mdtype\u001b[0m\u001b[0;34m=\u001b[0m\u001b[0mdtype\u001b[0m\u001b[0;34m)\u001b[0m\u001b[0;34m\u001b[0m\u001b[0;34m\u001b[0m\u001b[0m\n\u001b[0m\u001b[1;32m    212\u001b[0m \u001b[0;34m\u001b[0m\u001b[0m\n\u001b[1;32m    213\u001b[0m     \u001b[0m_HANDLED_TYPES\u001b[0m \u001b[0;34m=\u001b[0m \u001b[0;34m(\u001b[0m\u001b[0mnp\u001b[0m\u001b[0;34m.\u001b[0m\u001b[0mndarray\u001b[0m\u001b[0;34m,\u001b[0m \u001b[0mnumbers\u001b[0m\u001b[0;34m.\u001b[0m\u001b[0mNumber\u001b[0m\u001b[0;34m)\u001b[0m\u001b[0;34m\u001b[0m\u001b[0;34m\u001b[0m\u001b[0m\n",
            "\u001b[0;32m/usr/local/lib/python3.7/dist-packages/numpy/core/_asarray.py\u001b[0m in \u001b[0;36masarray\u001b[0;34m(a, dtype, order)\u001b[0m\n\u001b[1;32m     81\u001b[0m \u001b[0;34m\u001b[0m\u001b[0m\n\u001b[1;32m     82\u001b[0m     \"\"\"\n\u001b[0;32m---> 83\u001b[0;31m     \u001b[0;32mreturn\u001b[0m \u001b[0marray\u001b[0m\u001b[0;34m(\u001b[0m\u001b[0ma\u001b[0m\u001b[0;34m,\u001b[0m \u001b[0mdtype\u001b[0m\u001b[0;34m,\u001b[0m \u001b[0mcopy\u001b[0m\u001b[0;34m=\u001b[0m\u001b[0;32mFalse\u001b[0m\u001b[0;34m,\u001b[0m \u001b[0morder\u001b[0m\u001b[0;34m=\u001b[0m\u001b[0morder\u001b[0m\u001b[0;34m)\u001b[0m\u001b[0;34m\u001b[0m\u001b[0;34m\u001b[0m\u001b[0m\n\u001b[0m\u001b[1;32m     84\u001b[0m \u001b[0;34m\u001b[0m\u001b[0m\n\u001b[1;32m     85\u001b[0m \u001b[0;34m\u001b[0m\u001b[0m\n",
            "\u001b[0;31mValueError\u001b[0m: invalid literal for int() with base 10: 'Normal'"
          ]
        }
      ]
    },
    {
      "cell_type": "code",
      "metadata": {
        "colab": {
          "base_uri": "https://localhost:8080/",
          "height": 680
        },
        "id": "Qjz-WyXQlaEk",
        "outputId": "b67f65af-7013-4a4c-babb-21b56cb280ab"
      },
      "source": [
        "import numpy as np\n",
        "X = np.asarray(skin_df['image'].tolist())"
      ],
      "execution_count": 28,
      "outputs": [
        {
          "output_type": "error",
          "ename": "KeyError",
          "evalue": "ignored",
          "traceback": [
            "\u001b[0;31m---------------------------------------------------------------------------\u001b[0m",
            "\u001b[0;31mKeyError\u001b[0m                                  Traceback (most recent call last)",
            "\u001b[0;32m/usr/local/lib/python3.7/dist-packages/pandas/core/indexes/base.py\u001b[0m in \u001b[0;36mget_loc\u001b[0;34m(self, key, method, tolerance)\u001b[0m\n\u001b[1;32m   2897\u001b[0m             \u001b[0;32mtry\u001b[0m\u001b[0;34m:\u001b[0m\u001b[0;34m\u001b[0m\u001b[0;34m\u001b[0m\u001b[0m\n\u001b[0;32m-> 2898\u001b[0;31m                 \u001b[0;32mreturn\u001b[0m \u001b[0mself\u001b[0m\u001b[0;34m.\u001b[0m\u001b[0m_engine\u001b[0m\u001b[0;34m.\u001b[0m\u001b[0mget_loc\u001b[0m\u001b[0;34m(\u001b[0m\u001b[0mcasted_key\u001b[0m\u001b[0;34m)\u001b[0m\u001b[0;34m\u001b[0m\u001b[0;34m\u001b[0m\u001b[0m\n\u001b[0m\u001b[1;32m   2899\u001b[0m             \u001b[0;32mexcept\u001b[0m \u001b[0mKeyError\u001b[0m \u001b[0;32mas\u001b[0m \u001b[0merr\u001b[0m\u001b[0;34m:\u001b[0m\u001b[0;34m\u001b[0m\u001b[0;34m\u001b[0m\u001b[0m\n",
            "\u001b[0;32mpandas/_libs/index.pyx\u001b[0m in \u001b[0;36mpandas._libs.index.IndexEngine.get_loc\u001b[0;34m()\u001b[0m\n",
            "\u001b[0;32mpandas/_libs/index.pyx\u001b[0m in \u001b[0;36mpandas._libs.index.IndexEngine.get_loc\u001b[0;34m()\u001b[0m\n",
            "\u001b[0;32mpandas/_libs/hashtable_class_helper.pxi\u001b[0m in \u001b[0;36mpandas._libs.hashtable.PyObjectHashTable.get_item\u001b[0;34m()\u001b[0m\n",
            "\u001b[0;32mpandas/_libs/hashtable_class_helper.pxi\u001b[0m in \u001b[0;36mpandas._libs.hashtable.PyObjectHashTable.get_item\u001b[0;34m()\u001b[0m\n",
            "\u001b[0;31mKeyError\u001b[0m: 'image'",
            "\nThe above exception was the direct cause of the following exception:\n",
            "\u001b[0;31mKeyError\u001b[0m                                  Traceback (most recent call last)",
            "\u001b[0;32m<ipython-input-28-6d36410da94d>\u001b[0m in \u001b[0;36m<module>\u001b[0;34m()\u001b[0m\n\u001b[1;32m      1\u001b[0m \u001b[0;32mimport\u001b[0m \u001b[0mnumpy\u001b[0m \u001b[0;32mas\u001b[0m \u001b[0mnp\u001b[0m\u001b[0;34m\u001b[0m\u001b[0;34m\u001b[0m\u001b[0m\n\u001b[0;32m----> 2\u001b[0;31m \u001b[0mX\u001b[0m \u001b[0;34m=\u001b[0m \u001b[0mnp\u001b[0m\u001b[0;34m.\u001b[0m\u001b[0masarray\u001b[0m\u001b[0;34m(\u001b[0m\u001b[0mskin_df\u001b[0m\u001b[0;34m[\u001b[0m\u001b[0;34m'image'\u001b[0m\u001b[0;34m]\u001b[0m\u001b[0;34m.\u001b[0m\u001b[0mtolist\u001b[0m\u001b[0;34m(\u001b[0m\u001b[0;34m)\u001b[0m\u001b[0;34m)\u001b[0m\u001b[0;34m\u001b[0m\u001b[0;34m\u001b[0m\u001b[0m\n\u001b[0m",
            "\u001b[0;32m/usr/local/lib/python3.7/dist-packages/pandas/core/frame.py\u001b[0m in \u001b[0;36m__getitem__\u001b[0;34m(self, key)\u001b[0m\n\u001b[1;32m   2904\u001b[0m             \u001b[0;32mif\u001b[0m \u001b[0mself\u001b[0m\u001b[0;34m.\u001b[0m\u001b[0mcolumns\u001b[0m\u001b[0;34m.\u001b[0m\u001b[0mnlevels\u001b[0m \u001b[0;34m>\u001b[0m \u001b[0;36m1\u001b[0m\u001b[0;34m:\u001b[0m\u001b[0;34m\u001b[0m\u001b[0;34m\u001b[0m\u001b[0m\n\u001b[1;32m   2905\u001b[0m                 \u001b[0;32mreturn\u001b[0m \u001b[0mself\u001b[0m\u001b[0;34m.\u001b[0m\u001b[0m_getitem_multilevel\u001b[0m\u001b[0;34m(\u001b[0m\u001b[0mkey\u001b[0m\u001b[0;34m)\u001b[0m\u001b[0;34m\u001b[0m\u001b[0;34m\u001b[0m\u001b[0m\n\u001b[0;32m-> 2906\u001b[0;31m             \u001b[0mindexer\u001b[0m \u001b[0;34m=\u001b[0m \u001b[0mself\u001b[0m\u001b[0;34m.\u001b[0m\u001b[0mcolumns\u001b[0m\u001b[0;34m.\u001b[0m\u001b[0mget_loc\u001b[0m\u001b[0;34m(\u001b[0m\u001b[0mkey\u001b[0m\u001b[0;34m)\u001b[0m\u001b[0;34m\u001b[0m\u001b[0;34m\u001b[0m\u001b[0m\n\u001b[0m\u001b[1;32m   2907\u001b[0m             \u001b[0;32mif\u001b[0m \u001b[0mis_integer\u001b[0m\u001b[0;34m(\u001b[0m\u001b[0mindexer\u001b[0m\u001b[0;34m)\u001b[0m\u001b[0;34m:\u001b[0m\u001b[0;34m\u001b[0m\u001b[0;34m\u001b[0m\u001b[0m\n\u001b[1;32m   2908\u001b[0m                 \u001b[0mindexer\u001b[0m \u001b[0;34m=\u001b[0m \u001b[0;34m[\u001b[0m\u001b[0mindexer\u001b[0m\u001b[0;34m]\u001b[0m\u001b[0;34m\u001b[0m\u001b[0;34m\u001b[0m\u001b[0m\n",
            "\u001b[0;32m/usr/local/lib/python3.7/dist-packages/pandas/core/indexes/base.py\u001b[0m in \u001b[0;36mget_loc\u001b[0;34m(self, key, method, tolerance)\u001b[0m\n\u001b[1;32m   2898\u001b[0m                 \u001b[0;32mreturn\u001b[0m \u001b[0mself\u001b[0m\u001b[0;34m.\u001b[0m\u001b[0m_engine\u001b[0m\u001b[0;34m.\u001b[0m\u001b[0mget_loc\u001b[0m\u001b[0;34m(\u001b[0m\u001b[0mcasted_key\u001b[0m\u001b[0;34m)\u001b[0m\u001b[0;34m\u001b[0m\u001b[0;34m\u001b[0m\u001b[0m\n\u001b[1;32m   2899\u001b[0m             \u001b[0;32mexcept\u001b[0m \u001b[0mKeyError\u001b[0m \u001b[0;32mas\u001b[0m \u001b[0merr\u001b[0m\u001b[0;34m:\u001b[0m\u001b[0;34m\u001b[0m\u001b[0;34m\u001b[0m\u001b[0m\n\u001b[0;32m-> 2900\u001b[0;31m                 \u001b[0;32mraise\u001b[0m \u001b[0mKeyError\u001b[0m\u001b[0;34m(\u001b[0m\u001b[0mkey\u001b[0m\u001b[0;34m)\u001b[0m \u001b[0;32mfrom\u001b[0m \u001b[0merr\u001b[0m\u001b[0;34m\u001b[0m\u001b[0;34m\u001b[0m\u001b[0m\n\u001b[0m\u001b[1;32m   2901\u001b[0m \u001b[0;34m\u001b[0m\u001b[0m\n\u001b[1;32m   2902\u001b[0m         \u001b[0;32mif\u001b[0m \u001b[0mtolerance\u001b[0m \u001b[0;32mis\u001b[0m \u001b[0;32mnot\u001b[0m \u001b[0;32mNone\u001b[0m\u001b[0;34m:\u001b[0m\u001b[0;34m\u001b[0m\u001b[0;34m\u001b[0m\u001b[0m\n",
            "\u001b[0;31mKeyError\u001b[0m: 'image'"
          ]
        }
      ]
    },
    {
      "cell_type": "code",
      "metadata": {
        "colab": {
          "base_uri": "https://localhost:8080/",
          "height": 680
        },
        "id": "rOhX-40obQDZ",
        "outputId": "9512ea6c-eec7-4b43-b4c6-57db43e364e5"
      },
      "source": [
        "from sklearn.model_selection import train_test_split\n",
        "x_train, x_test,y_train,y_test  = train_test_split(,test_size=0.25, random_state=42)\n"
      ],
      "execution_count": 26,
      "outputs": [
        {
          "output_type": "error",
          "ename": "KeyError",
          "evalue": "ignored",
          "traceback": [
            "\u001b[0;31m---------------------------------------------------------------------------\u001b[0m",
            "\u001b[0;31mKeyError\u001b[0m                                  Traceback (most recent call last)",
            "\u001b[0;32m/usr/local/lib/python3.7/dist-packages/pandas/core/indexes/base.py\u001b[0m in \u001b[0;36mget_loc\u001b[0;34m(self, key, method, tolerance)\u001b[0m\n\u001b[1;32m   2897\u001b[0m             \u001b[0;32mtry\u001b[0m\u001b[0;34m:\u001b[0m\u001b[0;34m\u001b[0m\u001b[0;34m\u001b[0m\u001b[0m\n\u001b[0;32m-> 2898\u001b[0;31m                 \u001b[0;32mreturn\u001b[0m \u001b[0mself\u001b[0m\u001b[0;34m.\u001b[0m\u001b[0m_engine\u001b[0m\u001b[0;34m.\u001b[0m\u001b[0mget_loc\u001b[0m\u001b[0;34m(\u001b[0m\u001b[0mcasted_key\u001b[0m\u001b[0;34m)\u001b[0m\u001b[0;34m\u001b[0m\u001b[0;34m\u001b[0m\u001b[0m\n\u001b[0m\u001b[1;32m   2899\u001b[0m             \u001b[0;32mexcept\u001b[0m \u001b[0mKeyError\u001b[0m \u001b[0;32mas\u001b[0m \u001b[0merr\u001b[0m\u001b[0;34m:\u001b[0m\u001b[0;34m\u001b[0m\u001b[0;34m\u001b[0m\u001b[0m\n",
            "\u001b[0;32mpandas/_libs/index.pyx\u001b[0m in \u001b[0;36mpandas._libs.index.IndexEngine.get_loc\u001b[0;34m()\u001b[0m\n",
            "\u001b[0;32mpandas/_libs/index.pyx\u001b[0m in \u001b[0;36mpandas._libs.index.IndexEngine.get_loc\u001b[0;34m()\u001b[0m\n",
            "\u001b[0;32mpandas/_libs/hashtable_class_helper.pxi\u001b[0m in \u001b[0;36mpandas._libs.hashtable.PyObjectHashTable.get_item\u001b[0;34m()\u001b[0m\n",
            "\u001b[0;32mpandas/_libs/hashtable_class_helper.pxi\u001b[0m in \u001b[0;36mpandas._libs.hashtable.PyObjectHashTable.get_item\u001b[0;34m()\u001b[0m\n",
            "\u001b[0;31mKeyError\u001b[0m: 'image'",
            "\nThe above exception was the direct cause of the following exception:\n",
            "\u001b[0;31mKeyError\u001b[0m                                  Traceback (most recent call last)",
            "\u001b[0;32m<ipython-input-26-54909538ffe0>\u001b[0m in \u001b[0;36m<module>\u001b[0;34m()\u001b[0m\n\u001b[1;32m      1\u001b[0m \u001b[0;32mfrom\u001b[0m \u001b[0msklearn\u001b[0m\u001b[0;34m.\u001b[0m\u001b[0mmodel_selection\u001b[0m \u001b[0;32mimport\u001b[0m \u001b[0mtrain_test_split\u001b[0m\u001b[0;34m\u001b[0m\u001b[0;34m\u001b[0m\u001b[0m\n\u001b[0;32m----> 2\u001b[0;31m \u001b[0mx_train\u001b[0m\u001b[0;34m,\u001b[0m \u001b[0mx_test\u001b[0m\u001b[0;34m,\u001b[0m\u001b[0my_train\u001b[0m\u001b[0;34m,\u001b[0m\u001b[0my_test\u001b[0m  \u001b[0;34m=\u001b[0m \u001b[0mtrain_test_split\u001b[0m\u001b[0;34m(\u001b[0m\u001b[0mskin_df\u001b[0m\u001b[0;34m[\u001b[0m\u001b[0;34m'image'\u001b[0m\u001b[0;34m]\u001b[0m\u001b[0;34m,\u001b[0m\u001b[0mskin_df\u001b[0m\u001b[0;34m[\u001b[0m\u001b[0;34m'Type'\u001b[0m\u001b[0;34m]\u001b[0m\u001b[0;34m,\u001b[0m\u001b[0mtest_size\u001b[0m\u001b[0;34m=\u001b[0m\u001b[0;36m0.25\u001b[0m\u001b[0;34m,\u001b[0m \u001b[0mrandom_state\u001b[0m\u001b[0;34m=\u001b[0m\u001b[0;36m42\u001b[0m\u001b[0;34m)\u001b[0m\u001b[0;34m\u001b[0m\u001b[0;34m\u001b[0m\u001b[0m\n\u001b[0m",
            "\u001b[0;32m/usr/local/lib/python3.7/dist-packages/pandas/core/frame.py\u001b[0m in \u001b[0;36m__getitem__\u001b[0;34m(self, key)\u001b[0m\n\u001b[1;32m   2904\u001b[0m             \u001b[0;32mif\u001b[0m \u001b[0mself\u001b[0m\u001b[0;34m.\u001b[0m\u001b[0mcolumns\u001b[0m\u001b[0;34m.\u001b[0m\u001b[0mnlevels\u001b[0m \u001b[0;34m>\u001b[0m \u001b[0;36m1\u001b[0m\u001b[0;34m:\u001b[0m\u001b[0;34m\u001b[0m\u001b[0;34m\u001b[0m\u001b[0m\n\u001b[1;32m   2905\u001b[0m                 \u001b[0;32mreturn\u001b[0m \u001b[0mself\u001b[0m\u001b[0;34m.\u001b[0m\u001b[0m_getitem_multilevel\u001b[0m\u001b[0;34m(\u001b[0m\u001b[0mkey\u001b[0m\u001b[0;34m)\u001b[0m\u001b[0;34m\u001b[0m\u001b[0;34m\u001b[0m\u001b[0m\n\u001b[0;32m-> 2906\u001b[0;31m             \u001b[0mindexer\u001b[0m \u001b[0;34m=\u001b[0m \u001b[0mself\u001b[0m\u001b[0;34m.\u001b[0m\u001b[0mcolumns\u001b[0m\u001b[0;34m.\u001b[0m\u001b[0mget_loc\u001b[0m\u001b[0;34m(\u001b[0m\u001b[0mkey\u001b[0m\u001b[0;34m)\u001b[0m\u001b[0;34m\u001b[0m\u001b[0;34m\u001b[0m\u001b[0m\n\u001b[0m\u001b[1;32m   2907\u001b[0m             \u001b[0;32mif\u001b[0m \u001b[0mis_integer\u001b[0m\u001b[0;34m(\u001b[0m\u001b[0mindexer\u001b[0m\u001b[0;34m)\u001b[0m\u001b[0;34m:\u001b[0m\u001b[0;34m\u001b[0m\u001b[0;34m\u001b[0m\u001b[0m\n\u001b[1;32m   2908\u001b[0m                 \u001b[0mindexer\u001b[0m \u001b[0;34m=\u001b[0m \u001b[0;34m[\u001b[0m\u001b[0mindexer\u001b[0m\u001b[0;34m]\u001b[0m\u001b[0;34m\u001b[0m\u001b[0;34m\u001b[0m\u001b[0m\n",
            "\u001b[0;32m/usr/local/lib/python3.7/dist-packages/pandas/core/indexes/base.py\u001b[0m in \u001b[0;36mget_loc\u001b[0;34m(self, key, method, tolerance)\u001b[0m\n\u001b[1;32m   2898\u001b[0m                 \u001b[0;32mreturn\u001b[0m \u001b[0mself\u001b[0m\u001b[0;34m.\u001b[0m\u001b[0m_engine\u001b[0m\u001b[0;34m.\u001b[0m\u001b[0mget_loc\u001b[0m\u001b[0;34m(\u001b[0m\u001b[0mcasted_key\u001b[0m\u001b[0;34m)\u001b[0m\u001b[0;34m\u001b[0m\u001b[0;34m\u001b[0m\u001b[0m\n\u001b[1;32m   2899\u001b[0m             \u001b[0;32mexcept\u001b[0m \u001b[0mKeyError\u001b[0m \u001b[0;32mas\u001b[0m \u001b[0merr\u001b[0m\u001b[0;34m:\u001b[0m\u001b[0;34m\u001b[0m\u001b[0;34m\u001b[0m\u001b[0m\n\u001b[0;32m-> 2900\u001b[0;31m                 \u001b[0;32mraise\u001b[0m \u001b[0mKeyError\u001b[0m\u001b[0;34m(\u001b[0m\u001b[0mkey\u001b[0m\u001b[0;34m)\u001b[0m \u001b[0;32mfrom\u001b[0m \u001b[0merr\u001b[0m\u001b[0;34m\u001b[0m\u001b[0;34m\u001b[0m\u001b[0m\n\u001b[0m\u001b[1;32m   2901\u001b[0m \u001b[0;34m\u001b[0m\u001b[0m\n\u001b[1;32m   2902\u001b[0m         \u001b[0;32mif\u001b[0m \u001b[0mtolerance\u001b[0m \u001b[0;32mis\u001b[0m \u001b[0;32mnot\u001b[0m \u001b[0;32mNone\u001b[0m\u001b[0;34m:\u001b[0m\u001b[0;34m\u001b[0m\u001b[0;34m\u001b[0m\u001b[0m\n",
            "\u001b[0;31mKeyError\u001b[0m: 'image'"
          ]
        }
      ]
    },
    {
      "cell_type": "code",
      "metadata": {
        "colab": {
          "base_uri": "https://localhost:8080/",
          "height": 1000
        },
        "id": "SNS47iJZiN20",
        "outputId": "59520b25-692c-4d16-9397-33f9780fcb2e"
      },
      "source": [
        "batch_size = 16 \n",
        "epochs = 50\n",
        "\n",
        "history = newmodel.fit(\n",
        "    x_train,\n",
        "    epochs=epochs,\n",
        "    batch_size = batch_size,\n",
        "    validation_data=(x_test))\n",
        "\n",
        "score = model.evaluate(x_test, y_test)\n",
        "print('Test accuracy:', score[1])"
      ],
      "execution_count": 14,
      "outputs": [
        {
          "output_type": "stream",
          "text": [
            "Epoch 1/50\n"
          ],
          "name": "stdout"
        },
        {
          "output_type": "error",
          "ename": "ValueError",
          "evalue": "ignored",
          "traceback": [
            "\u001b[0;31m---------------------------------------------------------------------------\u001b[0m",
            "\u001b[0;31mValueError\u001b[0m                                Traceback (most recent call last)",
            "\u001b[0;32m<ipython-input-14-d562fea617cf>\u001b[0m in \u001b[0;36m<module>\u001b[0;34m()\u001b[0m\n\u001b[1;32m      6\u001b[0m     \u001b[0mepochs\u001b[0m\u001b[0;34m=\u001b[0m\u001b[0mepochs\u001b[0m\u001b[0;34m,\u001b[0m\u001b[0;34m\u001b[0m\u001b[0;34m\u001b[0m\u001b[0m\n\u001b[1;32m      7\u001b[0m     \u001b[0mbatch_size\u001b[0m \u001b[0;34m=\u001b[0m \u001b[0mbatch_size\u001b[0m\u001b[0;34m,\u001b[0m\u001b[0;34m\u001b[0m\u001b[0;34m\u001b[0m\u001b[0m\n\u001b[0;32m----> 8\u001b[0;31m     validation_data=(x_test))\n\u001b[0m\u001b[1;32m      9\u001b[0m \u001b[0;34m\u001b[0m\u001b[0m\n\u001b[1;32m     10\u001b[0m \u001b[0mscore\u001b[0m \u001b[0;34m=\u001b[0m \u001b[0mmodel\u001b[0m\u001b[0;34m.\u001b[0m\u001b[0mevaluate\u001b[0m\u001b[0;34m(\u001b[0m\u001b[0mx_test\u001b[0m\u001b[0;34m,\u001b[0m \u001b[0my_test\u001b[0m\u001b[0;34m)\u001b[0m\u001b[0;34m\u001b[0m\u001b[0;34m\u001b[0m\u001b[0m\n",
            "\u001b[0;32m/usr/local/lib/python3.7/dist-packages/tensorflow/python/keras/engine/training.py\u001b[0m in \u001b[0;36mfit\u001b[0;34m(self, x, y, batch_size, epochs, verbose, callbacks, validation_split, validation_data, shuffle, class_weight, sample_weight, initial_epoch, steps_per_epoch, validation_steps, validation_batch_size, validation_freq, max_queue_size, workers, use_multiprocessing)\u001b[0m\n\u001b[1;32m   1098\u001b[0m                 _r=1):\n\u001b[1;32m   1099\u001b[0m               \u001b[0mcallbacks\u001b[0m\u001b[0;34m.\u001b[0m\u001b[0mon_train_batch_begin\u001b[0m\u001b[0;34m(\u001b[0m\u001b[0mstep\u001b[0m\u001b[0;34m)\u001b[0m\u001b[0;34m\u001b[0m\u001b[0;34m\u001b[0m\u001b[0m\n\u001b[0;32m-> 1100\u001b[0;31m               \u001b[0mtmp_logs\u001b[0m \u001b[0;34m=\u001b[0m \u001b[0mself\u001b[0m\u001b[0;34m.\u001b[0m\u001b[0mtrain_function\u001b[0m\u001b[0;34m(\u001b[0m\u001b[0miterator\u001b[0m\u001b[0;34m)\u001b[0m\u001b[0;34m\u001b[0m\u001b[0;34m\u001b[0m\u001b[0m\n\u001b[0m\u001b[1;32m   1101\u001b[0m               \u001b[0;32mif\u001b[0m \u001b[0mdata_handler\u001b[0m\u001b[0;34m.\u001b[0m\u001b[0mshould_sync\u001b[0m\u001b[0;34m:\u001b[0m\u001b[0;34m\u001b[0m\u001b[0;34m\u001b[0m\u001b[0m\n\u001b[1;32m   1102\u001b[0m                 \u001b[0mcontext\u001b[0m\u001b[0;34m.\u001b[0m\u001b[0masync_wait\u001b[0m\u001b[0;34m(\u001b[0m\u001b[0;34m)\u001b[0m\u001b[0;34m\u001b[0m\u001b[0;34m\u001b[0m\u001b[0m\n",
            "\u001b[0;32m/usr/local/lib/python3.7/dist-packages/tensorflow/python/eager/def_function.py\u001b[0m in \u001b[0;36m__call__\u001b[0;34m(self, *args, **kwds)\u001b[0m\n\u001b[1;32m    826\u001b[0m     \u001b[0mtracing_count\u001b[0m \u001b[0;34m=\u001b[0m \u001b[0mself\u001b[0m\u001b[0;34m.\u001b[0m\u001b[0mexperimental_get_tracing_count\u001b[0m\u001b[0;34m(\u001b[0m\u001b[0;34m)\u001b[0m\u001b[0;34m\u001b[0m\u001b[0;34m\u001b[0m\u001b[0m\n\u001b[1;32m    827\u001b[0m     \u001b[0;32mwith\u001b[0m \u001b[0mtrace\u001b[0m\u001b[0;34m.\u001b[0m\u001b[0mTrace\u001b[0m\u001b[0;34m(\u001b[0m\u001b[0mself\u001b[0m\u001b[0;34m.\u001b[0m\u001b[0m_name\u001b[0m\u001b[0;34m)\u001b[0m \u001b[0;32mas\u001b[0m \u001b[0mtm\u001b[0m\u001b[0;34m:\u001b[0m\u001b[0;34m\u001b[0m\u001b[0;34m\u001b[0m\u001b[0m\n\u001b[0;32m--> 828\u001b[0;31m       \u001b[0mresult\u001b[0m \u001b[0;34m=\u001b[0m \u001b[0mself\u001b[0m\u001b[0;34m.\u001b[0m\u001b[0m_call\u001b[0m\u001b[0;34m(\u001b[0m\u001b[0;34m*\u001b[0m\u001b[0margs\u001b[0m\u001b[0;34m,\u001b[0m \u001b[0;34m**\u001b[0m\u001b[0mkwds\u001b[0m\u001b[0;34m)\u001b[0m\u001b[0;34m\u001b[0m\u001b[0;34m\u001b[0m\u001b[0m\n\u001b[0m\u001b[1;32m    829\u001b[0m       \u001b[0mcompiler\u001b[0m \u001b[0;34m=\u001b[0m \u001b[0;34m\"xla\"\u001b[0m \u001b[0;32mif\u001b[0m \u001b[0mself\u001b[0m\u001b[0;34m.\u001b[0m\u001b[0m_experimental_compile\u001b[0m \u001b[0;32melse\u001b[0m \u001b[0;34m\"nonXla\"\u001b[0m\u001b[0;34m\u001b[0m\u001b[0;34m\u001b[0m\u001b[0m\n\u001b[1;32m    830\u001b[0m       \u001b[0mnew_tracing_count\u001b[0m \u001b[0;34m=\u001b[0m \u001b[0mself\u001b[0m\u001b[0;34m.\u001b[0m\u001b[0mexperimental_get_tracing_count\u001b[0m\u001b[0;34m(\u001b[0m\u001b[0;34m)\u001b[0m\u001b[0;34m\u001b[0m\u001b[0;34m\u001b[0m\u001b[0m\n",
            "\u001b[0;32m/usr/local/lib/python3.7/dist-packages/tensorflow/python/eager/def_function.py\u001b[0m in \u001b[0;36m_call\u001b[0;34m(self, *args, **kwds)\u001b[0m\n\u001b[1;32m    869\u001b[0m       \u001b[0;31m# This is the first call of __call__, so we have to initialize.\u001b[0m\u001b[0;34m\u001b[0m\u001b[0;34m\u001b[0m\u001b[0;34m\u001b[0m\u001b[0m\n\u001b[1;32m    870\u001b[0m       \u001b[0minitializers\u001b[0m \u001b[0;34m=\u001b[0m \u001b[0;34m[\u001b[0m\u001b[0;34m]\u001b[0m\u001b[0;34m\u001b[0m\u001b[0;34m\u001b[0m\u001b[0m\n\u001b[0;32m--> 871\u001b[0;31m       \u001b[0mself\u001b[0m\u001b[0;34m.\u001b[0m\u001b[0m_initialize\u001b[0m\u001b[0;34m(\u001b[0m\u001b[0margs\u001b[0m\u001b[0;34m,\u001b[0m \u001b[0mkwds\u001b[0m\u001b[0;34m,\u001b[0m \u001b[0madd_initializers_to\u001b[0m\u001b[0;34m=\u001b[0m\u001b[0minitializers\u001b[0m\u001b[0;34m)\u001b[0m\u001b[0;34m\u001b[0m\u001b[0;34m\u001b[0m\u001b[0m\n\u001b[0m\u001b[1;32m    872\u001b[0m     \u001b[0;32mfinally\u001b[0m\u001b[0;34m:\u001b[0m\u001b[0;34m\u001b[0m\u001b[0;34m\u001b[0m\u001b[0m\n\u001b[1;32m    873\u001b[0m       \u001b[0;31m# At this point we know that the initialization is complete (or less\u001b[0m\u001b[0;34m\u001b[0m\u001b[0;34m\u001b[0m\u001b[0;34m\u001b[0m\u001b[0m\n",
            "\u001b[0;32m/usr/local/lib/python3.7/dist-packages/tensorflow/python/eager/def_function.py\u001b[0m in \u001b[0;36m_initialize\u001b[0;34m(self, args, kwds, add_initializers_to)\u001b[0m\n\u001b[1;32m    724\u001b[0m     self._concrete_stateful_fn = (\n\u001b[1;32m    725\u001b[0m         self._stateful_fn._get_concrete_function_internal_garbage_collected(  # pylint: disable=protected-access\n\u001b[0;32m--> 726\u001b[0;31m             *args, **kwds))\n\u001b[0m\u001b[1;32m    727\u001b[0m \u001b[0;34m\u001b[0m\u001b[0m\n\u001b[1;32m    728\u001b[0m     \u001b[0;32mdef\u001b[0m \u001b[0minvalid_creator_scope\u001b[0m\u001b[0;34m(\u001b[0m\u001b[0;34m*\u001b[0m\u001b[0munused_args\u001b[0m\u001b[0;34m,\u001b[0m \u001b[0;34m**\u001b[0m\u001b[0munused_kwds\u001b[0m\u001b[0;34m)\u001b[0m\u001b[0;34m:\u001b[0m\u001b[0;34m\u001b[0m\u001b[0;34m\u001b[0m\u001b[0m\n",
            "\u001b[0;32m/usr/local/lib/python3.7/dist-packages/tensorflow/python/eager/function.py\u001b[0m in \u001b[0;36m_get_concrete_function_internal_garbage_collected\u001b[0;34m(self, *args, **kwargs)\u001b[0m\n\u001b[1;32m   2967\u001b[0m       \u001b[0margs\u001b[0m\u001b[0;34m,\u001b[0m \u001b[0mkwargs\u001b[0m \u001b[0;34m=\u001b[0m \u001b[0;32mNone\u001b[0m\u001b[0;34m,\u001b[0m \u001b[0;32mNone\u001b[0m\u001b[0;34m\u001b[0m\u001b[0;34m\u001b[0m\u001b[0m\n\u001b[1;32m   2968\u001b[0m     \u001b[0;32mwith\u001b[0m \u001b[0mself\u001b[0m\u001b[0;34m.\u001b[0m\u001b[0m_lock\u001b[0m\u001b[0;34m:\u001b[0m\u001b[0;34m\u001b[0m\u001b[0;34m\u001b[0m\u001b[0m\n\u001b[0;32m-> 2969\u001b[0;31m       \u001b[0mgraph_function\u001b[0m\u001b[0;34m,\u001b[0m \u001b[0m_\u001b[0m \u001b[0;34m=\u001b[0m \u001b[0mself\u001b[0m\u001b[0;34m.\u001b[0m\u001b[0m_maybe_define_function\u001b[0m\u001b[0;34m(\u001b[0m\u001b[0margs\u001b[0m\u001b[0;34m,\u001b[0m \u001b[0mkwargs\u001b[0m\u001b[0;34m)\u001b[0m\u001b[0;34m\u001b[0m\u001b[0;34m\u001b[0m\u001b[0m\n\u001b[0m\u001b[1;32m   2970\u001b[0m     \u001b[0;32mreturn\u001b[0m \u001b[0mgraph_function\u001b[0m\u001b[0;34m\u001b[0m\u001b[0;34m\u001b[0m\u001b[0m\n\u001b[1;32m   2971\u001b[0m \u001b[0;34m\u001b[0m\u001b[0m\n",
            "\u001b[0;32m/usr/local/lib/python3.7/dist-packages/tensorflow/python/eager/function.py\u001b[0m in \u001b[0;36m_maybe_define_function\u001b[0;34m(self, args, kwargs)\u001b[0m\n\u001b[1;32m   3359\u001b[0m \u001b[0;34m\u001b[0m\u001b[0m\n\u001b[1;32m   3360\u001b[0m           \u001b[0mself\u001b[0m\u001b[0;34m.\u001b[0m\u001b[0m_function_cache\u001b[0m\u001b[0;34m.\u001b[0m\u001b[0mmissed\u001b[0m\u001b[0;34m.\u001b[0m\u001b[0madd\u001b[0m\u001b[0;34m(\u001b[0m\u001b[0mcall_context_key\u001b[0m\u001b[0;34m)\u001b[0m\u001b[0;34m\u001b[0m\u001b[0;34m\u001b[0m\u001b[0m\n\u001b[0;32m-> 3361\u001b[0;31m           \u001b[0mgraph_function\u001b[0m \u001b[0;34m=\u001b[0m \u001b[0mself\u001b[0m\u001b[0;34m.\u001b[0m\u001b[0m_create_graph_function\u001b[0m\u001b[0;34m(\u001b[0m\u001b[0margs\u001b[0m\u001b[0;34m,\u001b[0m \u001b[0mkwargs\u001b[0m\u001b[0;34m)\u001b[0m\u001b[0;34m\u001b[0m\u001b[0;34m\u001b[0m\u001b[0m\n\u001b[0m\u001b[1;32m   3362\u001b[0m           \u001b[0mself\u001b[0m\u001b[0;34m.\u001b[0m\u001b[0m_function_cache\u001b[0m\u001b[0;34m.\u001b[0m\u001b[0mprimary\u001b[0m\u001b[0;34m[\u001b[0m\u001b[0mcache_key\u001b[0m\u001b[0;34m]\u001b[0m \u001b[0;34m=\u001b[0m \u001b[0mgraph_function\u001b[0m\u001b[0;34m\u001b[0m\u001b[0;34m\u001b[0m\u001b[0m\n\u001b[1;32m   3363\u001b[0m \u001b[0;34m\u001b[0m\u001b[0m\n",
            "\u001b[0;32m/usr/local/lib/python3.7/dist-packages/tensorflow/python/eager/function.py\u001b[0m in \u001b[0;36m_create_graph_function\u001b[0;34m(self, args, kwargs, override_flat_arg_shapes)\u001b[0m\n\u001b[1;32m   3204\u001b[0m             \u001b[0marg_names\u001b[0m\u001b[0;34m=\u001b[0m\u001b[0marg_names\u001b[0m\u001b[0;34m,\u001b[0m\u001b[0;34m\u001b[0m\u001b[0;34m\u001b[0m\u001b[0m\n\u001b[1;32m   3205\u001b[0m             \u001b[0moverride_flat_arg_shapes\u001b[0m\u001b[0;34m=\u001b[0m\u001b[0moverride_flat_arg_shapes\u001b[0m\u001b[0;34m,\u001b[0m\u001b[0;34m\u001b[0m\u001b[0;34m\u001b[0m\u001b[0m\n\u001b[0;32m-> 3206\u001b[0;31m             capture_by_value=self._capture_by_value),\n\u001b[0m\u001b[1;32m   3207\u001b[0m         \u001b[0mself\u001b[0m\u001b[0;34m.\u001b[0m\u001b[0m_function_attributes\u001b[0m\u001b[0;34m,\u001b[0m\u001b[0;34m\u001b[0m\u001b[0;34m\u001b[0m\u001b[0m\n\u001b[1;32m   3208\u001b[0m         \u001b[0mfunction_spec\u001b[0m\u001b[0;34m=\u001b[0m\u001b[0mself\u001b[0m\u001b[0;34m.\u001b[0m\u001b[0mfunction_spec\u001b[0m\u001b[0;34m,\u001b[0m\u001b[0;34m\u001b[0m\u001b[0;34m\u001b[0m\u001b[0m\n",
            "\u001b[0;32m/usr/local/lib/python3.7/dist-packages/tensorflow/python/framework/func_graph.py\u001b[0m in \u001b[0;36mfunc_graph_from_py_func\u001b[0;34m(name, python_func, args, kwargs, signature, func_graph, autograph, autograph_options, add_control_dependencies, arg_names, op_return_value, collections, capture_by_value, override_flat_arg_shapes)\u001b[0m\n\u001b[1;32m    988\u001b[0m         \u001b[0m_\u001b[0m\u001b[0;34m,\u001b[0m \u001b[0moriginal_func\u001b[0m \u001b[0;34m=\u001b[0m \u001b[0mtf_decorator\u001b[0m\u001b[0;34m.\u001b[0m\u001b[0munwrap\u001b[0m\u001b[0;34m(\u001b[0m\u001b[0mpython_func\u001b[0m\u001b[0;34m)\u001b[0m\u001b[0;34m\u001b[0m\u001b[0;34m\u001b[0m\u001b[0m\n\u001b[1;32m    989\u001b[0m \u001b[0;34m\u001b[0m\u001b[0m\n\u001b[0;32m--> 990\u001b[0;31m       \u001b[0mfunc_outputs\u001b[0m \u001b[0;34m=\u001b[0m \u001b[0mpython_func\u001b[0m\u001b[0;34m(\u001b[0m\u001b[0;34m*\u001b[0m\u001b[0mfunc_args\u001b[0m\u001b[0;34m,\u001b[0m \u001b[0;34m**\u001b[0m\u001b[0mfunc_kwargs\u001b[0m\u001b[0;34m)\u001b[0m\u001b[0;34m\u001b[0m\u001b[0;34m\u001b[0m\u001b[0m\n\u001b[0m\u001b[1;32m    991\u001b[0m \u001b[0;34m\u001b[0m\u001b[0m\n\u001b[1;32m    992\u001b[0m       \u001b[0;31m# invariant: `func_outputs` contains only Tensors, CompositeTensors,\u001b[0m\u001b[0;34m\u001b[0m\u001b[0;34m\u001b[0m\u001b[0;34m\u001b[0m\u001b[0m\n",
            "\u001b[0;32m/usr/local/lib/python3.7/dist-packages/tensorflow/python/eager/def_function.py\u001b[0m in \u001b[0;36mwrapped_fn\u001b[0;34m(*args, **kwds)\u001b[0m\n\u001b[1;32m    632\u001b[0m             \u001b[0mxla_context\u001b[0m\u001b[0;34m.\u001b[0m\u001b[0mExit\u001b[0m\u001b[0;34m(\u001b[0m\u001b[0;34m)\u001b[0m\u001b[0;34m\u001b[0m\u001b[0;34m\u001b[0m\u001b[0m\n\u001b[1;32m    633\u001b[0m         \u001b[0;32melse\u001b[0m\u001b[0;34m:\u001b[0m\u001b[0;34m\u001b[0m\u001b[0;34m\u001b[0m\u001b[0m\n\u001b[0;32m--> 634\u001b[0;31m           \u001b[0mout\u001b[0m \u001b[0;34m=\u001b[0m \u001b[0mweak_wrapped_fn\u001b[0m\u001b[0;34m(\u001b[0m\u001b[0;34m)\u001b[0m\u001b[0;34m.\u001b[0m\u001b[0m__wrapped__\u001b[0m\u001b[0;34m(\u001b[0m\u001b[0;34m*\u001b[0m\u001b[0margs\u001b[0m\u001b[0;34m,\u001b[0m \u001b[0;34m**\u001b[0m\u001b[0mkwds\u001b[0m\u001b[0;34m)\u001b[0m\u001b[0;34m\u001b[0m\u001b[0;34m\u001b[0m\u001b[0m\n\u001b[0m\u001b[1;32m    635\u001b[0m         \u001b[0;32mreturn\u001b[0m \u001b[0mout\u001b[0m\u001b[0;34m\u001b[0m\u001b[0;34m\u001b[0m\u001b[0m\n\u001b[1;32m    636\u001b[0m \u001b[0;34m\u001b[0m\u001b[0m\n",
            "\u001b[0;32m/usr/local/lib/python3.7/dist-packages/tensorflow/python/framework/func_graph.py\u001b[0m in \u001b[0;36mwrapper\u001b[0;34m(*args, **kwargs)\u001b[0m\n\u001b[1;32m    975\u001b[0m           \u001b[0;32mexcept\u001b[0m \u001b[0mException\u001b[0m \u001b[0;32mas\u001b[0m \u001b[0me\u001b[0m\u001b[0;34m:\u001b[0m  \u001b[0;31m# pylint:disable=broad-except\u001b[0m\u001b[0;34m\u001b[0m\u001b[0;34m\u001b[0m\u001b[0m\n\u001b[1;32m    976\u001b[0m             \u001b[0;32mif\u001b[0m \u001b[0mhasattr\u001b[0m\u001b[0;34m(\u001b[0m\u001b[0me\u001b[0m\u001b[0;34m,\u001b[0m \u001b[0;34m\"ag_error_metadata\"\u001b[0m\u001b[0;34m)\u001b[0m\u001b[0;34m:\u001b[0m\u001b[0;34m\u001b[0m\u001b[0;34m\u001b[0m\u001b[0m\n\u001b[0;32m--> 977\u001b[0;31m               \u001b[0;32mraise\u001b[0m \u001b[0me\u001b[0m\u001b[0;34m.\u001b[0m\u001b[0mag_error_metadata\u001b[0m\u001b[0;34m.\u001b[0m\u001b[0mto_exception\u001b[0m\u001b[0;34m(\u001b[0m\u001b[0me\u001b[0m\u001b[0;34m)\u001b[0m\u001b[0;34m\u001b[0m\u001b[0;34m\u001b[0m\u001b[0m\n\u001b[0m\u001b[1;32m    978\u001b[0m             \u001b[0;32melse\u001b[0m\u001b[0;34m:\u001b[0m\u001b[0;34m\u001b[0m\u001b[0;34m\u001b[0m\u001b[0m\n\u001b[1;32m    979\u001b[0m               \u001b[0;32mraise\u001b[0m\u001b[0;34m\u001b[0m\u001b[0;34m\u001b[0m\u001b[0m\n",
            "\u001b[0;31mValueError\u001b[0m: in user code:\n\n    /usr/local/lib/python3.7/dist-packages/tensorflow/python/keras/engine/training.py:805 train_function  *\n        return step_function(self, iterator)\n    /usr/local/lib/python3.7/dist-packages/tensorflow/python/keras/engine/training.py:795 step_function  **\n        outputs = model.distribute_strategy.run(run_step, args=(data,))\n    /usr/local/lib/python3.7/dist-packages/tensorflow/python/distribute/distribute_lib.py:1259 run\n        return self._extended.call_for_each_replica(fn, args=args, kwargs=kwargs)\n    /usr/local/lib/python3.7/dist-packages/tensorflow/python/distribute/distribute_lib.py:2730 call_for_each_replica\n        return self._call_for_each_replica(fn, args, kwargs)\n    /usr/local/lib/python3.7/dist-packages/tensorflow/python/distribute/distribute_lib.py:3417 _call_for_each_replica\n        return fn(*args, **kwargs)\n    /usr/local/lib/python3.7/dist-packages/tensorflow/python/keras/engine/training.py:788 run_step  **\n        outputs = model.train_step(data)\n    /usr/local/lib/python3.7/dist-packages/tensorflow/python/keras/engine/training.py:754 train_step\n        y_pred = self(x, training=True)\n    /usr/local/lib/python3.7/dist-packages/tensorflow/python/keras/engine/base_layer.py:998 __call__\n        input_spec.assert_input_compatibility(self.input_spec, inputs, self.name)\n    /usr/local/lib/python3.7/dist-packages/tensorflow/python/keras/engine/input_spec.py:207 assert_input_compatibility\n        ' input tensors. Inputs received: ' + str(inputs))\n\n    ValueError: Layer sequential_1 expects 1 input(s), but it received 256 input tensors. Inputs received: [<tf.Tensor 'IteratorGetNext:0' shape=(16, 32, 32, 3) dtype=float32>, <tf.Tensor 'IteratorGetNext:1' shape=(16, 4) dtype=float32>, <tf.Tensor 'IteratorGetNext:2' shape=(16, 32, 32, 3) dtype=float32>, <tf.Tensor 'IteratorGetNext:3' shape=(16, 4) dtype=float32>, <tf.Tensor 'IteratorGetNext:4' shape=(16, 32, 32, 3) dtype=float32>, <tf.Tensor 'IteratorGetNext:5' shape=(16, 4) dtype=float32>, <tf.Tensor 'IteratorGetNext:6' shape=(16, 32, 32, 3) dtype=float32>, <tf.Tensor 'IteratorGetNext:7' shape=(16, 4) dtype=float32>, <tf.Tensor 'IteratorGetNext:8' shape=(16, 32, 32, 3) dtype=float32>, <tf.Tensor 'IteratorGetNext:9' shape=(16, 4) dtype=float32>, <tf.Tensor 'IteratorGetNext:10' shape=(16, 32, 32, 3) dtype=float32>, <tf.Tensor 'IteratorGetNext:11' shape=(16, 4) dtype=float32>, <tf.Tensor 'IteratorGetNext:12' shape=(16, 32, 32, 3) dtype=float32>, <tf.Tensor 'IteratorGetNext:13' shape=(16, 4) dtype=float32>, <tf.Tensor 'IteratorGetNext:14' shape=(16, 32, 32, 3) dtype=float32>, <tf.Tensor 'IteratorGetNext:15' shape=(16, 4) dtype=float32>, <tf.Tensor 'IteratorGetNext:16' shape=(16, 32, 32, 3) dtype=float32>, <tf.Tensor 'IteratorGetNext:17' shape=(16, 4) dtype=float32>, <tf.Tensor 'IteratorGetNext:18' shape=(16, 32, 32, 3) dtype=float32>, <tf.Tensor 'IteratorGetNext:19' shape=(16, 4) dtype=float32>, <tf.Tensor 'IteratorGetNext:20' shape=(16, 32, 32, 3) dtype=float32>, <tf.Tenso...\n"
          ]
        }
      ]
    },
  ]}
